{
 "cells": [
  {
   "cell_type": "code",
   "execution_count": 1,
   "metadata": {},
   "outputs": [],
   "source": [
    "import cirq\n",
    "import numpy as np\n",
    "from cirq.contrib.svg import SVGCircuit as draw\n",
    "from cirq.circuits import InsertStrategy\n",
    "import matplotlib.pyplot as plt\n",
    "import random as rand"
   ]
  },
  {
   "cell_type": "code",
   "execution_count": 2,
   "metadata": {},
   "outputs": [
    {
     "data": {
      "image/svg+xml": [
       "<svg xmlns=\"http://www.w3.org/2000/svg\" width=\"529.1343359375\" height=\"200.0\"><line x1=\"30.0\" x2=\"499.13433593750005\" y1=\"25.0\" y2=\"25.0\" stroke=\"#1967d2\" stroke-width=\"1\" /><line x1=\"30.0\" x2=\"499.13433593750005\" y1=\"75.0\" y2=\"75.0\" stroke=\"#1967d2\" stroke-width=\"1\" /><line x1=\"30.0\" x2=\"499.13433593750005\" y1=\"125.0\" y2=\"125.0\" stroke=\"#1967d2\" stroke-width=\"1\" /><line x1=\"30.0\" x2=\"499.13433593750005\" y1=\"175.0\" y2=\"175.0\" stroke=\"#1967d2\" stroke-width=\"1\" /><line x1=\"150.0\" x2=\"150.0\" y1=\"25.0\" y2=\"125.0\" stroke=\"black\" stroke-width=\"3\" /><line x1=\"378.37248046875004\" x2=\"378.37248046875004\" y1=\"25.0\" y2=\"75.0\" stroke=\"black\" stroke-width=\"3\" /><line x1=\"378.37248046875004\" x2=\"378.37248046875004\" y1=\"125.0\" y2=\"175.0\" stroke=\"black\" stroke-width=\"3\" /><rect x=\"10.0\" y=\"5.0\" width=\"40\" height=\"40\" stroke=\"black\" fill=\"white\" stroke-width=\"0\" /><text x=\"30.0\" y=\"25.0\" dominant-baseline=\"middle\" text-anchor=\"middle\" font-size=\"14px\" font-family=\"Arial\">0: </text><rect x=\"10.0\" y=\"55.0\" width=\"40\" height=\"40\" stroke=\"black\" fill=\"white\" stroke-width=\"0\" /><text x=\"30.0\" y=\"75.0\" dominant-baseline=\"middle\" text-anchor=\"middle\" font-size=\"14px\" font-family=\"Arial\">1: </text><rect x=\"10.0\" y=\"105.0\" width=\"40\" height=\"40\" stroke=\"black\" fill=\"white\" stroke-width=\"0\" /><text x=\"30.0\" y=\"125.0\" dominant-baseline=\"middle\" text-anchor=\"middle\" font-size=\"14px\" font-family=\"Arial\">2: </text><rect x=\"10.0\" y=\"155.0\" width=\"40\" height=\"40\" stroke=\"black\" fill=\"white\" stroke-width=\"0\" /><text x=\"30.0\" y=\"175.0\" dominant-baseline=\"middle\" text-anchor=\"middle\" font-size=\"14px\" font-family=\"Arial\">3: </text><rect x=\"70.0\" y=\"5.0\" width=\"40\" height=\"40\" stroke=\"black\" fill=\"white\" stroke-width=\"1\" /><text x=\"90.0\" y=\"25.0\" dominant-baseline=\"middle\" text-anchor=\"middle\" font-size=\"18px\" font-family=\"Arial\">H</text><circle cx=\"150.0\" cy=\"25.0\" r=\"10.0\" /><rect x=\"130.0\" y=\"105.0\" width=\"40\" height=\"40\" stroke=\"black\" fill=\"white\" stroke-width=\"1\" /><text x=\"150.0\" y=\"125.0\" dominant-baseline=\"middle\" text-anchor=\"middle\" font-size=\"18px\" font-family=\"Arial\">X</text><rect x=\"190.0\" y=\"5.0\" width=\"76.397734375\" height=\"40\" stroke=\"black\" fill=\"white\" stroke-width=\"1\" /><text x=\"228.1988671875\" y=\"25.0\" dominant-baseline=\"middle\" text-anchor=\"middle\" font-size=\"14px\" font-family=\"Arial\">Rx(-0.25π)</text><rect x=\"286.397734375\" y=\"55.0\" width=\"40\" height=\"40\" stroke=\"black\" fill=\"white\" stroke-width=\"1\" /><text x=\"306.397734375\" y=\"75.0\" dominant-baseline=\"middle\" text-anchor=\"middle\" font-size=\"18px\" font-family=\"Arial\">H</text><rect x=\"286.397734375\" y=\"155.0\" width=\"40\" height=\"40\" stroke=\"black\" fill=\"white\" stroke-width=\"1\" /><text x=\"306.397734375\" y=\"175.0\" dominant-baseline=\"middle\" text-anchor=\"middle\" font-size=\"18px\" font-family=\"Arial\">H</text><circle cx=\"378.37248046875004\" cy=\"75.0\" r=\"10.0\" /><rect x=\"346.397734375\" y=\"5.0\" width=\"63.9494921875\" height=\"40\" stroke=\"black\" fill=\"white\" stroke-width=\"1\" /><text x=\"378.37248046875004\" y=\"25.0\" dominant-baseline=\"middle\" text-anchor=\"middle\" font-size=\"14px\" font-family=\"Arial\">Rx(0.5π)</text><circle cx=\"378.37248046875004\" cy=\"175.0\" r=\"10.0\" /><rect x=\"346.397734375\" y=\"105.0\" width=\"63.9494921875\" height=\"40\" stroke=\"black\" fill=\"white\" stroke-width=\"1\" /><text x=\"378.37248046875004\" y=\"125.0\" dominant-baseline=\"middle\" text-anchor=\"middle\" font-size=\"14px\" font-family=\"Arial\">Rx(0.5π)</text><rect x=\"430.34722656250005\" y=\"5.0\" width=\"48.787109375\" height=\"40\" stroke=\"black\" fill=\"white\" stroke-width=\"1\" /><text x=\"454.74078125000005\" y=\"25.0\" dominant-baseline=\"middle\" text-anchor=\"middle\" font-size=\"14px\" font-family=\"Arial\">M('A')</text><rect x=\"430.34722656250005\" y=\"55.0\" width=\"48.787109375\" height=\"40\" stroke=\"black\" fill=\"white\" stroke-width=\"1\" /><text x=\"454.74078125000005\" y=\"75.0\" dominant-baseline=\"middle\" text-anchor=\"middle\" font-size=\"14px\" font-family=\"Arial\">M('rA')</text><rect x=\"430.34722656250005\" y=\"105.0\" width=\"48.787109375\" height=\"40\" stroke=\"black\" fill=\"white\" stroke-width=\"1\" /><text x=\"454.74078125000005\" y=\"125.0\" dominant-baseline=\"middle\" text-anchor=\"middle\" font-size=\"14px\" font-family=\"Arial\">M('B')</text><rect x=\"430.34722656250005\" y=\"155.0\" width=\"48.787109375\" height=\"40\" stroke=\"black\" fill=\"white\" stroke-width=\"1\" /><text x=\"454.74078125000005\" y=\"175.0\" dominant-baseline=\"middle\" text-anchor=\"middle\" font-size=\"14px\" font-family=\"Arial\">M('rB')</text></svg>"
      ],
      "text/plain": [
       "<cirq.contrib.svg.svg.SVGCircuit at 0x139823340>"
      ]
     },
     "execution_count": 2,
     "metadata": {},
     "output_type": "execute_result"
    }
   ],
   "source": [
    "q=[cirq.LineQubit(i) for i in range(4)]\n",
    "c=cirq.Circuit()\n",
    "c.append(cirq.H(q[0]))\n",
    "c.append(cirq.CNOT(q[0],q[2]))\n",
    "c.append(cirq.rx(-np.pi/4).on(q[0]))\n",
    "c.append(cirq.H(q[1]),strategy=InsertStrategy.NEW_THEN_INLINE)\n",
    "c.append(cirq.H(q[3]),strategy=InsertStrategy.INLINE)\n",
    "c.append(cirq.rx(np.pi/2).on(q[0]).controlled_by(q[1]))\n",
    "c.append(cirq.rx(np.pi/2).on(q[2]).controlled_by(q[3]))\n",
    "c.append(cirq.measure(q[0],key='A'))\n",
    "c.append(cirq.measure(q[1],key='rA'))\n",
    "c.append(cirq.measure(q[2],key='B'))\n",
    "c.append(cirq.measure(q[3],key='rB'))\n",
    "draw(c)"
   ]
  },
  {
   "cell_type": "code",
   "execution_count": 3,
   "metadata": {},
   "outputs": [
    {
     "data": {
      "image/svg+xml": [
       "<svg xmlns=\"http://www.w3.org/2000/svg\" width=\"529.1343359375\" height=\"200.0\"><line x1=\"30.0\" x2=\"499.13433593750005\" y1=\"25.0\" y2=\"25.0\" stroke=\"#1967d2\" stroke-width=\"1\" /><line x1=\"30.0\" x2=\"499.13433593750005\" y1=\"75.0\" y2=\"75.0\" stroke=\"#1967d2\" stroke-width=\"1\" /><line x1=\"30.0\" x2=\"499.13433593750005\" y1=\"125.0\" y2=\"125.0\" stroke=\"#1967d2\" stroke-width=\"1\" /><line x1=\"30.0\" x2=\"499.13433593750005\" y1=\"175.0\" y2=\"175.0\" stroke=\"#1967d2\" stroke-width=\"1\" /><line x1=\"150.0\" x2=\"150.0\" y1=\"25.0\" y2=\"125.0\" stroke=\"black\" stroke-width=\"3\" /><line x1=\"376.04142578125004\" x2=\"376.04142578125004\" y1=\"25.0\" y2=\"75.0\" stroke=\"black\" stroke-width=\"3\" /><line x1=\"376.04142578125004\" x2=\"376.04142578125004\" y1=\"125.0\" y2=\"175.0\" stroke=\"black\" stroke-width=\"3\" /><rect x=\"10.0\" y=\"5.0\" width=\"40\" height=\"40\" stroke=\"black\" fill=\"white\" stroke-width=\"0\" /><text x=\"30.0\" y=\"25.0\" dominant-baseline=\"middle\" text-anchor=\"middle\" font-size=\"14px\" font-family=\"Arial\">0: </text><rect x=\"10.0\" y=\"55.0\" width=\"40\" height=\"40\" stroke=\"black\" fill=\"white\" stroke-width=\"0\" /><text x=\"30.0\" y=\"75.0\" dominant-baseline=\"middle\" text-anchor=\"middle\" font-size=\"14px\" font-family=\"Arial\">1: </text><rect x=\"10.0\" y=\"105.0\" width=\"40\" height=\"40\" stroke=\"black\" fill=\"white\" stroke-width=\"0\" /><text x=\"30.0\" y=\"125.0\" dominant-baseline=\"middle\" text-anchor=\"middle\" font-size=\"14px\" font-family=\"Arial\">2: </text><rect x=\"10.0\" y=\"155.0\" width=\"40\" height=\"40\" stroke=\"black\" fill=\"white\" stroke-width=\"0\" /><text x=\"30.0\" y=\"175.0\" dominant-baseline=\"middle\" text-anchor=\"middle\" font-size=\"14px\" font-family=\"Arial\">3: </text><rect x=\"70.0\" y=\"5.0\" width=\"40\" height=\"40\" stroke=\"black\" fill=\"white\" stroke-width=\"1\" /><text x=\"90.0\" y=\"25.0\" dominant-baseline=\"middle\" text-anchor=\"middle\" font-size=\"18px\" font-family=\"Arial\">H</text><circle cx=\"150.0\" cy=\"25.0\" r=\"10.0\" /><rect x=\"130.0\" y=\"105.0\" width=\"40\" height=\"40\" stroke=\"black\" fill=\"white\" stroke-width=\"1\" /><text x=\"150.0\" y=\"125.0\" dominant-baseline=\"middle\" text-anchor=\"middle\" font-size=\"18px\" font-family=\"Arial\">X</text><rect x=\"190.0\" y=\"5.0\" width=\"71.735625\" height=\"40\" stroke=\"black\" fill=\"white\" stroke-width=\"1\" /><text x=\"225.8678125\" y=\"25.0\" dominant-baseline=\"middle\" text-anchor=\"middle\" font-size=\"14px\" font-family=\"Arial\">Ry(0.25π)</text><rect x=\"281.735625\" y=\"55.0\" width=\"40\" height=\"40\" stroke=\"black\" fill=\"white\" stroke-width=\"1\" /><text x=\"301.735625\" y=\"75.0\" dominant-baseline=\"middle\" text-anchor=\"middle\" font-size=\"18px\" font-family=\"Arial\">H</text><rect x=\"281.735625\" y=\"155.0\" width=\"40\" height=\"40\" stroke=\"black\" fill=\"white\" stroke-width=\"1\" /><text x=\"301.735625\" y=\"175.0\" dominant-baseline=\"middle\" text-anchor=\"middle\" font-size=\"18px\" font-family=\"Arial\">H</text><circle cx=\"376.04142578125004\" cy=\"75.0\" r=\"10.0\" /><rect x=\"341.735625\" y=\"5.0\" width=\"68.6116015625\" height=\"40\" stroke=\"black\" fill=\"white\" stroke-width=\"1\" /><text x=\"376.04142578125004\" y=\"25.0\" dominant-baseline=\"middle\" text-anchor=\"middle\" font-size=\"14px\" font-family=\"Arial\">Ry(-0.5π)</text><circle cx=\"376.04142578125004\" cy=\"175.0\" r=\"10.0\" /><rect x=\"341.735625\" y=\"105.0\" width=\"68.6116015625\" height=\"40\" stroke=\"black\" fill=\"white\" stroke-width=\"1\" /><text x=\"376.04142578125004\" y=\"125.0\" dominant-baseline=\"middle\" text-anchor=\"middle\" font-size=\"14px\" font-family=\"Arial\">Ry(0.5π)</text><rect x=\"430.34722656250005\" y=\"5.0\" width=\"48.787109375\" height=\"40\" stroke=\"black\" fill=\"white\" stroke-width=\"1\" /><text x=\"454.74078125000005\" y=\"25.0\" dominant-baseline=\"middle\" text-anchor=\"middle\" font-size=\"14px\" font-family=\"Arial\">M('A')</text><rect x=\"430.34722656250005\" y=\"55.0\" width=\"48.787109375\" height=\"40\" stroke=\"black\" fill=\"white\" stroke-width=\"1\" /><text x=\"454.74078125000005\" y=\"75.0\" dominant-baseline=\"middle\" text-anchor=\"middle\" font-size=\"14px\" font-family=\"Arial\">M('rA')</text><rect x=\"430.34722656250005\" y=\"105.0\" width=\"48.787109375\" height=\"40\" stroke=\"black\" fill=\"white\" stroke-width=\"1\" /><text x=\"454.74078125000005\" y=\"125.0\" dominant-baseline=\"middle\" text-anchor=\"middle\" font-size=\"14px\" font-family=\"Arial\">M('B')</text><rect x=\"430.34722656250005\" y=\"155.0\" width=\"48.787109375\" height=\"40\" stroke=\"black\" fill=\"white\" stroke-width=\"1\" /><text x=\"454.74078125000005\" y=\"175.0\" dominant-baseline=\"middle\" text-anchor=\"middle\" font-size=\"14px\" font-family=\"Arial\">M('rB')</text></svg>"
      ],
      "text/plain": [
       "<cirq.contrib.svg.svg.SVGCircuit at 0x1396f77c0>"
      ]
     },
     "execution_count": 3,
     "metadata": {},
     "output_type": "execute_result"
    }
   ],
   "source": [
    "q=[cirq.LineQubit(i) for i in range(4)]\n",
    "c=cirq.Circuit()\n",
    "c.append(cirq.H(q[0]))\n",
    "c.append(cirq.CNOT(q[0],q[2]))\n",
    "c.append(cirq.ry(np.pi/4).on(q[0]))\n",
    "c.append(cirq.H(q[1]),strategy=InsertStrategy.NEW_THEN_INLINE)\n",
    "c.append(cirq.H(q[3]),strategy=InsertStrategy.INLINE)\n",
    "c.append(cirq.ry(-np.pi/2).on(q[0]).controlled_by(q[1]))\n",
    "c.append(cirq.ry(np.pi/2).on(q[2]).controlled_by(q[3]))\n",
    "c.append(cirq.measure(q[0],key='A'))\n",
    "c.append(cirq.measure(q[1],key='rA'))\n",
    "c.append(cirq.measure(q[2],key='B'))\n",
    "c.append(cirq.measure(q[3],key='rB'))\n",
    "draw(c)"
   ]
  },
  {
   "cell_type": "code",
   "execution_count": 4,
   "metadata": {},
   "outputs": [
    {
     "data": {
      "text/plain": [
       "0.8585"
      ]
     },
     "execution_count": 4,
     "metadata": {},
     "output_type": "execute_result"
    }
   ],
   "source": [
    "sim = cirq.Simulator()\n",
    "result = sim.run(c, repetitions=2000)\n",
    "A = result.measurements['A'][:, 0]\n",
    "r_A = result.measurements['rA'][:, 0]\n",
    "B = result.measurements['B'][:, 0]\n",
    "r_B = result.measurements['rB'][:, 0]\n",
    "(np.array(A)+np.array(B))%2 ==(np.array(r_A) & np.array(r_B))\n",
    "win= (np.array(A)+np.array(B))%2 ==(np.array(r_A) & np.array(r_B))\n",
    "np.mean(win)"
   ]
  },
  {
   "cell_type": "code",
   "execution_count": 5,
   "metadata": {},
   "outputs": [
    {
     "data": {
      "text/plain": [
       "0"
      ]
     },
     "execution_count": 5,
     "metadata": {},
     "output_type": "execute_result"
    }
   ],
   "source": [
    "A[0]"
   ]
  },
  {
   "cell_type": "code",
   "execution_count": 6,
   "metadata": {},
   "outputs": [
    {
     "data": {
      "image/svg+xml": [
       "<svg xmlns=\"http://www.w3.org/2000/svg\" width=\"375.860625\" height=\"100.0\"><line x1=\"30.0\" x2=\"345.860625\" y1=\"25.0\" y2=\"25.0\" stroke=\"#1967d2\" stroke-width=\"1\" /><line x1=\"30.0\" x2=\"345.860625\" y1=\"75.0\" y2=\"75.0\" stroke=\"#1967d2\" stroke-width=\"1\" /><line x1=\"150.0\" x2=\"150.0\" y1=\"25.0\" y2=\"75.0\" stroke=\"black\" stroke-width=\"3\" /><rect x=\"10.0\" y=\"5.0\" width=\"40\" height=\"40\" stroke=\"black\" fill=\"white\" stroke-width=\"0\" /><text x=\"30.0\" y=\"25.0\" dominant-baseline=\"middle\" text-anchor=\"middle\" font-size=\"14px\" font-family=\"Arial\">0: </text><rect x=\"10.0\" y=\"55.0\" width=\"40\" height=\"40\" stroke=\"black\" fill=\"white\" stroke-width=\"0\" /><text x=\"30.0\" y=\"75.0\" dominant-baseline=\"middle\" text-anchor=\"middle\" font-size=\"14px\" font-family=\"Arial\">1: </text><rect x=\"70.0\" y=\"5.0\" width=\"40\" height=\"40\" stroke=\"black\" fill=\"white\" stroke-width=\"1\" /><text x=\"90.0\" y=\"25.0\" dominant-baseline=\"middle\" text-anchor=\"middle\" font-size=\"18px\" font-family=\"Arial\">H</text><circle cx=\"150.0\" cy=\"25.0\" r=\"10.0\" /><rect x=\"130.0\" y=\"55.0\" width=\"40\" height=\"40\" stroke=\"black\" fill=\"white\" stroke-width=\"1\" /><text x=\"150.0\" y=\"75.0\" dominant-baseline=\"middle\" text-anchor=\"middle\" font-size=\"18px\" font-family=\"Arial\">X</text><rect x=\"190.0\" y=\"5.0\" width=\"71.735625\" height=\"40\" stroke=\"black\" fill=\"white\" stroke-width=\"1\" /><text x=\"225.8678125\" y=\"25.0\" dominant-baseline=\"middle\" text-anchor=\"middle\" font-size=\"14px\" font-family=\"Arial\">Ry(0)</text><rect x=\"190.0\" y=\"55.0\" width=\"71.735625\" height=\"40\" stroke=\"black\" fill=\"white\" stroke-width=\"1\" /><text x=\"225.8678125\" y=\"75.0\" dominant-baseline=\"middle\" text-anchor=\"middle\" font-size=\"14px\" font-family=\"Arial\">Ry(0.25π)</text><rect x=\"281.735625\" y=\"5.0\" width=\"44.125\" height=\"40\" stroke=\"black\" fill=\"white\" stroke-width=\"1\" /><text x=\"303.798125\" y=\"25.0\" dominant-baseline=\"middle\" text-anchor=\"middle\" font-size=\"14px\" font-family=\"Arial\">M('A')</text><rect x=\"281.735625\" y=\"55.0\" width=\"44.125\" height=\"40\" stroke=\"black\" fill=\"white\" stroke-width=\"1\" /><text x=\"303.798125\" y=\"75.0\" dominant-baseline=\"middle\" text-anchor=\"middle\" font-size=\"14px\" font-family=\"Arial\">M('B')</text></svg>"
      ],
      "text/plain": [
       "<cirq.contrib.svg.svg.SVGCircuit at 0x1076d9040>"
      ]
     },
     "execution_count": 6,
     "metadata": {},
     "output_type": "execute_result"
    }
   ],
   "source": [
    "x=[]\n",
    "y=[]\n",
    "a=[]\n",
    "b=[]\n",
    "for i in range(900):    \n",
    "    qq=[cirq.LineQubit(i) for i in range(2)]\n",
    "    cc=cirq.Circuit()\n",
    "    cc.append(cirq.H(q[0]))\n",
    "    cc.append(cirq.CNOT(q[0],q[1]))\n",
    "\n",
    "    random_num1 = np.random.rand() # first random number\n",
    "    random_num2 = np.random.rand() # second random number\n",
    "\n",
    "    if(random_num1>=1/2):\n",
    "        x.append(1)\n",
    "        cc.append(cirq.ry(np.pi/2).on(q[0]))\n",
    "    else:\n",
    "        x.append(0)\n",
    "        cc.append(cirq.ry(0).on(q[0]))\n",
    "\n",
    "    if(random_num2>=1/2):\n",
    "        y.append(1)\n",
    "        cc.append(cirq.ry(-np.pi/4).on(q[1]))\n",
    "    else:\n",
    "        y.append(0)\n",
    "        cc.append(cirq.ry(np.pi/4).on(q[1]))\n",
    "\n",
    "    # cc.append(cirq.rx(-np.pi/4).on(q[0]))\n",
    "    # cc.append(cirq.H(q[1]),strategy=InsertStrategy.NEW_THEN_INLINE)\n",
    "\n",
    "    # cc.append(cirq.H(q[3]),strategy=InsertStrategy.INLINE)\n",
    "\n",
    "    # cc.append(cirq.ry(np.pi/2).on(q[0]).controlled_by(q[1]))\n",
    "    # cc.append(cirq.ry(-np.pi/4).on(q[2]))\n",
    "    # cc.append(cirq.ry(np.pi/2).on(q[2]).controlled_by(q[3]))\n",
    "    # cc.append(cirq.rx(np.pi/2).on(q[2]).controlled_by(q[3]))\n",
    "    cc.append(cirq.measure(q[0],key='A'))\n",
    "    cc.append(cirq.measure(q[1],key='B'))\n",
    "    # cc.append(cirq.measure(q[2],key='B'))\n",
    "    # cc.append(cirq.measure(q[3],key='rB'))\n",
    "    sim = cirq.Simulator()\n",
    "    result = sim.run(cc, repetitions=1)\n",
    "    A = result.measurements['A'][:, 0][0]\n",
    "    B = result.measurements['B'][:, 0][0]\n",
    "    a.append(A)\n",
    "    b.append(B)\n",
    "draw(cc)"
   ]
  },
  {
   "cell_type": "code",
   "execution_count": 7,
   "metadata": {},
   "outputs": [
    {
     "data": {
      "text/plain": [
       "0.8733333333333333"
      ]
     },
     "execution_count": 7,
     "metadata": {},
     "output_type": "execute_result"
    }
   ],
   "source": [
    "w=np.array(x)*np.array(y)==np.array(a)^np.array(b)\n",
    "np.mean(w)"
   ]
  },
  {
   "cell_type": "code",
   "execution_count": 8,
   "metadata": {},
   "outputs": [
    {
     "data": {
      "text/plain": [
       "0.8733333333333333"
      ]
     },
     "execution_count": 8,
     "metadata": {},
     "output_type": "execute_result"
    }
   ],
   "source": [
    "win= (np.array(a)+np.array(b))%2 ==(np.array(x) & np.array(y))\n",
    "np.mean(win)"
   ]
  },
  {
   "cell_type": "code",
   "execution_count": 16,
   "metadata": {},
   "outputs": [
    {
     "data": {
      "image/svg+xml": [
       "<svg xmlns=\"http://www.w3.org/2000/svg\" width=\"568.2462109375001\" height=\"200.0\"><line x1=\"30.0\" x2=\"538.2462109375001\" y1=\"25.0\" y2=\"25.0\" stroke=\"#1967d2\" stroke-width=\"1\" /><line x1=\"30.0\" x2=\"538.2462109375001\" y1=\"75.0\" y2=\"75.0\" stroke=\"#1967d2\" stroke-width=\"1\" /><line x1=\"30.0\" x2=\"538.2462109375001\" y1=\"125.0\" y2=\"125.0\" stroke=\"#1967d2\" stroke-width=\"1\" /><line x1=\"30.0\" x2=\"538.2462109375001\" y1=\"175.0\" y2=\"175.0\" stroke=\"#1967d2\" stroke-width=\"1\" /><line x1=\"150.0\" x2=\"150.0\" y1=\"25.0\" y2=\"75.0\" stroke=\"black\" stroke-width=\"3\" /><line x1=\"221.97474609375\" x2=\"221.97474609375\" y1=\"25.0\" y2=\"75.0\" stroke=\"black\" stroke-width=\"3\" /><line x1=\"402.32197265625007\" x2=\"402.32197265625007\" y1=\"125.0\" y2=\"175.0\" stroke=\"black\" stroke-width=\"3\" /><line x1=\"486.2714648437501\" x2=\"486.2714648437501\" y1=\"125.0\" y2=\"175.0\" stroke=\"black\" stroke-width=\"3\" /><rect x=\"10.0\" y=\"5.0\" width=\"40\" height=\"40\" stroke=\"black\" fill=\"white\" stroke-width=\"0\" /><text x=\"30.0\" y=\"25.0\" dominant-baseline=\"middle\" text-anchor=\"middle\" font-size=\"14px\" font-family=\"Arial\">0: </text><rect x=\"10.0\" y=\"55.0\" width=\"40\" height=\"40\" stroke=\"black\" fill=\"white\" stroke-width=\"0\" /><text x=\"30.0\" y=\"75.0\" dominant-baseline=\"middle\" text-anchor=\"middle\" font-size=\"14px\" font-family=\"Arial\">1: </text><rect x=\"10.0\" y=\"105.0\" width=\"40\" height=\"40\" stroke=\"black\" fill=\"white\" stroke-width=\"0\" /><text x=\"30.0\" y=\"125.0\" dominant-baseline=\"middle\" text-anchor=\"middle\" font-size=\"14px\" font-family=\"Arial\">2: </text><rect x=\"10.0\" y=\"155.0\" width=\"40\" height=\"40\" stroke=\"black\" fill=\"white\" stroke-width=\"0\" /><text x=\"30.0\" y=\"175.0\" dominant-baseline=\"middle\" text-anchor=\"middle\" font-size=\"14px\" font-family=\"Arial\">3: </text><rect x=\"70.0\" y=\"5.0\" width=\"40\" height=\"40\" stroke=\"black\" fill=\"white\" stroke-width=\"1\" /><text x=\"90.0\" y=\"25.0\" dominant-baseline=\"middle\" text-anchor=\"middle\" font-size=\"18px\" font-family=\"Arial\">H</text><circle cx=\"150.0\" cy=\"25.0\" r=\"10.0\" /><rect x=\"130.0\" y=\"55.0\" width=\"40\" height=\"40\" stroke=\"black\" fill=\"white\" stroke-width=\"1\" /><text x=\"150.0\" y=\"75.0\" dominant-baseline=\"middle\" text-anchor=\"middle\" font-size=\"18px\" font-family=\"Arial\">X</text><rect x=\"190.0\" y=\"105.0\" width=\"63.9494921875\" height=\"40\" stroke=\"black\" fill=\"white\" stroke-width=\"1\" /><text x=\"221.97474609375\" y=\"125.0\" dominant-baseline=\"middle\" text-anchor=\"middle\" font-size=\"18px\" font-family=\"Arial\">H</text><rect x=\"190.0\" y=\"155.0\" width=\"63.9494921875\" height=\"40\" stroke=\"black\" fill=\"white\" stroke-width=\"1\" /><text x=\"221.97474609375\" y=\"175.0\" dominant-baseline=\"middle\" text-anchor=\"middle\" font-size=\"18px\" font-family=\"Arial\">H</text><circle cx=\"221.97474609375\" cy=\"75.0\" r=\"10.0\" /><rect x=\"190.0\" y=\"5.0\" width=\"63.9494921875\" height=\"40\" stroke=\"black\" fill=\"white\" stroke-width=\"1\" /><text x=\"221.97474609375\" y=\"25.0\" dominant-baseline=\"middle\" text-anchor=\"middle\" font-size=\"14px\" font-family=\"Arial\">Ry(0.5π)</text><rect x=\"273.9494921875\" y=\"105.0\" width=\"76.397734375\" height=\"40\" stroke=\"black\" fill=\"white\" stroke-width=\"1\" /><text x=\"312.14835937500004\" y=\"125.0\" dominant-baseline=\"middle\" text-anchor=\"middle\" font-size=\"14px\" font-family=\"Arial\">Ry(-0.25π)</text><circle cx=\"402.32197265625007\" cy=\"175.0\" r=\"10.0\" /><rect x=\"370.34722656250005\" y=\"105.0\" width=\"63.9494921875\" height=\"40\" stroke=\"black\" fill=\"white\" stroke-width=\"1\" /><text x=\"402.32197265625007\" y=\"125.0\" dominant-baseline=\"middle\" text-anchor=\"middle\" font-size=\"14px\" font-family=\"Arial\">Ry(0.5π)</text><circle cx=\"486.2714648437501\" cy=\"175.0\" r=\"10.0\" /><rect x=\"454.2967187500001\" y=\"105.0\" width=\"63.9494921875\" height=\"40\" stroke=\"black\" fill=\"white\" stroke-width=\"1\" /><text x=\"486.2714648437501\" y=\"125.0\" dominant-baseline=\"middle\" text-anchor=\"middle\" font-size=\"14px\" font-family=\"Arial\">Rx(0.5π)</text></svg>"
      ],
      "text/plain": [
       "<cirq.contrib.svg.svg.SVGCircuit at 0x15a558cd0>"
      ]
     },
     "execution_count": 16,
     "metadata": {},
     "output_type": "execute_result"
    }
   ],
   "source": [
    "\n",
    "for i in range(900):    \n",
    "    qq=[cirq.LineQubit(i) for i in range(4)]\n",
    "    cc=cirq.Circuit()\n",
    "    cc.append(cirq.H(q[0]))\n",
    "    cc.append(cirq.CNOT(q[0],q[1]))\n",
    "\n",
    "\n",
    "    # cc.append(cirq.rx(-np.pi/4).on(q[0]))\n",
    "    cc.append(cirq.H(q[2]),strategy=InsertStrategy.NEW_THEN_INLINE)\n",
    "\n",
    "    cc.append(cirq.H(q[3]),strategy=InsertStrategy.INLINE)\n",
    "\n",
    "    cc.append(cirq.ry(np.pi/2).on(q[0]).controlled_by(q[1]))\n",
    "    cc.append(cirq.ry(-np.pi/4).on(q[2]))\n",
    "    cc.append(cirq.ry(np.pi/2).on(q[2]).controlled_by(q[3]))\n",
    "    cc.append(cirq.rx(np.pi/2).on(q[2]).controlled_by(q[3]))\n",
    "    # a.append(A)\n",
    "    # b.append(B)\n",
    "draw(cc)"
   ]
  },
  {
   "cell_type": "code",
   "execution_count": 17,
   "metadata": {},
   "outputs": [
    {
     "ename": "ValueError",
     "evalue": "Circuit has no measurements to sample.",
     "output_type": "error",
     "traceback": [
      "\u001b[0;31m---------------------------------------------------------------------------\u001b[0m",
      "\u001b[0;31mValueError\u001b[0m                                Traceback (most recent call last)",
      "\u001b[1;32m/Users/alireza/Desktop/bprogram/movahed/QI/CHSH/CHSH2.ipynb Cell 10\u001b[0m in \u001b[0;36m<cell line: 2>\u001b[0;34m()\u001b[0m\n\u001b[1;32m      <a href='vscode-notebook-cell:/Users/alireza/Desktop/bprogram/movahed/QI/CHSH/CHSH2.ipynb#X12sZmlsZQ%3D%3D?line=0'>1</a>\u001b[0m sim \u001b[39m=\u001b[39m cirq\u001b[39m.\u001b[39mSimulator()\n\u001b[0;32m----> <a href='vscode-notebook-cell:/Users/alireza/Desktop/bprogram/movahed/QI/CHSH/CHSH2.ipynb#X12sZmlsZQ%3D%3D?line=1'>2</a>\u001b[0m result \u001b[39m=\u001b[39m sim\u001b[39m.\u001b[39;49mrun(cc, repetitions\u001b[39m=\u001b[39;49m\u001b[39m500\u001b[39;49m)\n",
      "File \u001b[0;32m/opt/anaconda3/lib/python3.9/site-packages/cirq/work/sampler.py:63\u001b[0m, in \u001b[0;36mSampler.run\u001b[0;34m(self, program, param_resolver, repetitions)\u001b[0m\n\u001b[1;32m     37\u001b[0m \u001b[39mdef\u001b[39;00m \u001b[39mrun\u001b[39m(\n\u001b[1;32m     38\u001b[0m     \u001b[39mself\u001b[39m,\n\u001b[1;32m     39\u001b[0m     program: \u001b[39m'\u001b[39m\u001b[39mcirq.AbstractCircuit\u001b[39m\u001b[39m'\u001b[39m,\n\u001b[1;32m     40\u001b[0m     param_resolver: \u001b[39m'\u001b[39m\u001b[39mcirq.ParamResolverOrSimilarType\u001b[39m\u001b[39m'\u001b[39m \u001b[39m=\u001b[39m \u001b[39mNone\u001b[39;00m,\n\u001b[1;32m     41\u001b[0m     repetitions: \u001b[39mint\u001b[39m \u001b[39m=\u001b[39m \u001b[39m1\u001b[39m,\n\u001b[1;32m     42\u001b[0m ) \u001b[39m-\u001b[39m\u001b[39m>\u001b[39m \u001b[39m'\u001b[39m\u001b[39mcirq.Result\u001b[39m\u001b[39m'\u001b[39m:\n\u001b[1;32m     43\u001b[0m     \u001b[39m\"\"\"Samples from the given `Circuit`.\u001b[39;00m\n\u001b[1;32m     44\u001b[0m \n\u001b[1;32m     45\u001b[0m \u001b[39m    This mode of operation for a sampler will provide results\u001b[39;00m\n\u001b[0;32m   (...)\u001b[0m\n\u001b[1;32m     61\u001b[0m \u001b[39m        `cirq.Result` that contains all the measurements for a run.\u001b[39;00m\n\u001b[1;32m     62\u001b[0m \u001b[39m    \"\"\"\u001b[39;00m\n\u001b[0;32m---> 63\u001b[0m     \u001b[39mreturn\u001b[39;00m \u001b[39mself\u001b[39;49m\u001b[39m.\u001b[39;49mrun_sweep(program, param_resolver, repetitions)[\u001b[39m0\u001b[39m]\n",
      "File \u001b[0;32m/opt/anaconda3/lib/python3.9/site-packages/cirq/sim/simulator.py:72\u001b[0m, in \u001b[0;36mSimulatesSamples.run_sweep\u001b[0;34m(self, program, params, repetitions)\u001b[0m\n\u001b[1;32m     69\u001b[0m \u001b[39mdef\u001b[39;00m \u001b[39mrun_sweep\u001b[39m(\n\u001b[1;32m     70\u001b[0m     \u001b[39mself\u001b[39m, program: \u001b[39m'\u001b[39m\u001b[39mcirq.AbstractCircuit\u001b[39m\u001b[39m'\u001b[39m, params: \u001b[39m'\u001b[39m\u001b[39mcirq.Sweepable\u001b[39m\u001b[39m'\u001b[39m, repetitions: \u001b[39mint\u001b[39m \u001b[39m=\u001b[39m \u001b[39m1\u001b[39m\n\u001b[1;32m     71\u001b[0m ) \u001b[39m-\u001b[39m\u001b[39m>\u001b[39m Sequence[\u001b[39m'\u001b[39m\u001b[39mcirq.Result\u001b[39m\u001b[39m'\u001b[39m]:\n\u001b[0;32m---> 72\u001b[0m     \u001b[39mreturn\u001b[39;00m \u001b[39mlist\u001b[39;49m(\u001b[39mself\u001b[39;49m\u001b[39m.\u001b[39;49mrun_sweep_iter(program, params, repetitions))\n",
      "File \u001b[0;32m/opt/anaconda3/lib/python3.9/site-packages/cirq/sim/simulator.py:95\u001b[0m, in \u001b[0;36mSimulatesSamples.run_sweep_iter\u001b[0;34m(self, program, params, repetitions)\u001b[0m\n\u001b[1;32m     77\u001b[0m \u001b[39m\"\"\"Runs the supplied Circuit, mimicking quantum hardware.\u001b[39;00m\n\u001b[1;32m     78\u001b[0m \n\u001b[1;32m     79\u001b[0m \u001b[39mIn contrast to run, this allows for sweeping over different parameter\u001b[39;00m\n\u001b[0;32m   (...)\u001b[0m\n\u001b[1;32m     92\u001b[0m \u001b[39m    ValueError: If the circuit has no measurements.\u001b[39;00m\n\u001b[1;32m     93\u001b[0m \u001b[39m\"\"\"\u001b[39;00m\n\u001b[1;32m     94\u001b[0m \u001b[39mif\u001b[39;00m \u001b[39mnot\u001b[39;00m program\u001b[39m.\u001b[39mhas_measurements():\n\u001b[0;32m---> 95\u001b[0m     \u001b[39mraise\u001b[39;00m \u001b[39mValueError\u001b[39;00m(\u001b[39m\"\u001b[39m\u001b[39mCircuit has no measurements to sample.\u001b[39m\u001b[39m\"\u001b[39m)\n\u001b[1;32m     97\u001b[0m \u001b[39mfor\u001b[39;00m param_resolver \u001b[39min\u001b[39;00m study\u001b[39m.\u001b[39mto_resolvers(params):\n\u001b[1;32m     98\u001b[0m     records \u001b[39m=\u001b[39m {}\n",
      "\u001b[0;31mValueError\u001b[0m: Circuit has no measurements to sample."
     ]
    }
   ],
   "source": [
    "sim = cirq.Simulator()\n",
    "result = sim.run(cc, repetitions=500)"
   ]
  },
  {
   "cell_type": "code",
   "execution_count": null,
   "metadata": {},
   "outputs": [],
   "source": []
  },
  {
   "cell_type": "code",
   "execution_count": 11,
   "metadata": {},
   "outputs": [
    {
     "data": {
      "text/plain": [
       "0.0"
      ]
     },
     "execution_count": 11,
     "metadata": {},
     "output_type": "execute_result"
    }
   ],
   "source": [
    "A = result.measurements['A'][:, 0]\n",
    "np.mean(A)"
   ]
  },
  {
   "cell_type": "code",
   "execution_count": 15,
   "metadata": {},
   "outputs": [
    {
     "ename": "ValueError",
     "evalue": "Circuit has no measurements to sample.",
     "output_type": "error",
     "traceback": [
      "\u001b[0;31m---------------------------------------------------------------------------\u001b[0m",
      "\u001b[0;31mValueError\u001b[0m                                Traceback (most recent call last)",
      "\u001b[1;32m/Users/alireza/Desktop/bprogram/movahed/QI/CHSH/CHSH2.ipynb Cell 13\u001b[0m in \u001b[0;36m<cell line: 2>\u001b[0;34m()\u001b[0m\n\u001b[1;32m      <a href='vscode-notebook-cell:/Users/alireza/Desktop/bprogram/movahed/QI/CHSH/CHSH2.ipynb#X15sZmlsZQ%3D%3D?line=0'>1</a>\u001b[0m sim \u001b[39m=\u001b[39m cirq\u001b[39m.\u001b[39mSimulator()\n\u001b[0;32m----> <a href='vscode-notebook-cell:/Users/alireza/Desktop/bprogram/movahed/QI/CHSH/CHSH2.ipynb#X15sZmlsZQ%3D%3D?line=1'>2</a>\u001b[0m result \u001b[39m=\u001b[39m sim\u001b[39m.\u001b[39;49mrun(cc, repetitions\u001b[39m=\u001b[39;49m\u001b[39m200\u001b[39;49m)\n\u001b[1;32m      <a href='vscode-notebook-cell:/Users/alireza/Desktop/bprogram/movahed/QI/CHSH/CHSH2.ipynb#X15sZmlsZQ%3D%3D?line=2'>3</a>\u001b[0m A \u001b[39m=\u001b[39m result\u001b[39m.\u001b[39mmeasurements[\u001b[39m'\u001b[39m\u001b[39mA\u001b[39m\u001b[39m'\u001b[39m][:, \u001b[39m0\u001b[39m]\n\u001b[1;32m      <a href='vscode-notebook-cell:/Users/alireza/Desktop/bprogram/movahed/QI/CHSH/CHSH2.ipynb#X15sZmlsZQ%3D%3D?line=3'>4</a>\u001b[0m r_A \u001b[39m=\u001b[39m result\u001b[39m.\u001b[39mmeasurements[\u001b[39m'\u001b[39m\u001b[39mrA\u001b[39m\u001b[39m'\u001b[39m][:, \u001b[39m0\u001b[39m]\n",
      "File \u001b[0;32m/opt/anaconda3/lib/python3.9/site-packages/cirq/work/sampler.py:63\u001b[0m, in \u001b[0;36mSampler.run\u001b[0;34m(self, program, param_resolver, repetitions)\u001b[0m\n\u001b[1;32m     37\u001b[0m \u001b[39mdef\u001b[39;00m \u001b[39mrun\u001b[39m(\n\u001b[1;32m     38\u001b[0m     \u001b[39mself\u001b[39m,\n\u001b[1;32m     39\u001b[0m     program: \u001b[39m'\u001b[39m\u001b[39mcirq.AbstractCircuit\u001b[39m\u001b[39m'\u001b[39m,\n\u001b[1;32m     40\u001b[0m     param_resolver: \u001b[39m'\u001b[39m\u001b[39mcirq.ParamResolverOrSimilarType\u001b[39m\u001b[39m'\u001b[39m \u001b[39m=\u001b[39m \u001b[39mNone\u001b[39;00m,\n\u001b[1;32m     41\u001b[0m     repetitions: \u001b[39mint\u001b[39m \u001b[39m=\u001b[39m \u001b[39m1\u001b[39m,\n\u001b[1;32m     42\u001b[0m ) \u001b[39m-\u001b[39m\u001b[39m>\u001b[39m \u001b[39m'\u001b[39m\u001b[39mcirq.Result\u001b[39m\u001b[39m'\u001b[39m:\n\u001b[1;32m     43\u001b[0m     \u001b[39m\"\"\"Samples from the given `Circuit`.\u001b[39;00m\n\u001b[1;32m     44\u001b[0m \n\u001b[1;32m     45\u001b[0m \u001b[39m    This mode of operation for a sampler will provide results\u001b[39;00m\n\u001b[0;32m   (...)\u001b[0m\n\u001b[1;32m     61\u001b[0m \u001b[39m        `cirq.Result` that contains all the measurements for a run.\u001b[39;00m\n\u001b[1;32m     62\u001b[0m \u001b[39m    \"\"\"\u001b[39;00m\n\u001b[0;32m---> 63\u001b[0m     \u001b[39mreturn\u001b[39;00m \u001b[39mself\u001b[39;49m\u001b[39m.\u001b[39;49mrun_sweep(program, param_resolver, repetitions)[\u001b[39m0\u001b[39m]\n",
      "File \u001b[0;32m/opt/anaconda3/lib/python3.9/site-packages/cirq/sim/simulator.py:72\u001b[0m, in \u001b[0;36mSimulatesSamples.run_sweep\u001b[0;34m(self, program, params, repetitions)\u001b[0m\n\u001b[1;32m     69\u001b[0m \u001b[39mdef\u001b[39;00m \u001b[39mrun_sweep\u001b[39m(\n\u001b[1;32m     70\u001b[0m     \u001b[39mself\u001b[39m, program: \u001b[39m'\u001b[39m\u001b[39mcirq.AbstractCircuit\u001b[39m\u001b[39m'\u001b[39m, params: \u001b[39m'\u001b[39m\u001b[39mcirq.Sweepable\u001b[39m\u001b[39m'\u001b[39m, repetitions: \u001b[39mint\u001b[39m \u001b[39m=\u001b[39m \u001b[39m1\u001b[39m\n\u001b[1;32m     71\u001b[0m ) \u001b[39m-\u001b[39m\u001b[39m>\u001b[39m Sequence[\u001b[39m'\u001b[39m\u001b[39mcirq.Result\u001b[39m\u001b[39m'\u001b[39m]:\n\u001b[0;32m---> 72\u001b[0m     \u001b[39mreturn\u001b[39;00m \u001b[39mlist\u001b[39;49m(\u001b[39mself\u001b[39;49m\u001b[39m.\u001b[39;49mrun_sweep_iter(program, params, repetitions))\n",
      "File \u001b[0;32m/opt/anaconda3/lib/python3.9/site-packages/cirq/sim/simulator.py:95\u001b[0m, in \u001b[0;36mSimulatesSamples.run_sweep_iter\u001b[0;34m(self, program, params, repetitions)\u001b[0m\n\u001b[1;32m     77\u001b[0m \u001b[39m\"\"\"Runs the supplied Circuit, mimicking quantum hardware.\u001b[39;00m\n\u001b[1;32m     78\u001b[0m \n\u001b[1;32m     79\u001b[0m \u001b[39mIn contrast to run, this allows for sweeping over different parameter\u001b[39;00m\n\u001b[0;32m   (...)\u001b[0m\n\u001b[1;32m     92\u001b[0m \u001b[39m    ValueError: If the circuit has no measurements.\u001b[39;00m\n\u001b[1;32m     93\u001b[0m \u001b[39m\"\"\"\u001b[39;00m\n\u001b[1;32m     94\u001b[0m \u001b[39mif\u001b[39;00m \u001b[39mnot\u001b[39;00m program\u001b[39m.\u001b[39mhas_measurements():\n\u001b[0;32m---> 95\u001b[0m     \u001b[39mraise\u001b[39;00m \u001b[39mValueError\u001b[39;00m(\u001b[39m\"\u001b[39m\u001b[39mCircuit has no measurements to sample.\u001b[39m\u001b[39m\"\u001b[39m)\n\u001b[1;32m     97\u001b[0m \u001b[39mfor\u001b[39;00m param_resolver \u001b[39min\u001b[39;00m study\u001b[39m.\u001b[39mto_resolvers(params):\n\u001b[1;32m     98\u001b[0m     records \u001b[39m=\u001b[39m {}\n",
      "\u001b[0;31mValueError\u001b[0m: Circuit has no measurements to sample."
     ]
    }
   ],
   "source": [
    "sim = cirq.Simulator()\n",
    "result = sim.run(cc, repetitions=200)\n",
    "A = result.measurements['A'][:, 0]\n",
    "r_A = result.measurements['rA'][:, 0]\n",
    "B = result.measurements['B'][:, 0]\n",
    "r_B = result.measurements['rB'][:, 0]\n",
    "(np.array(A)+np.array(B))%2 ==(np.array(r_A) & np.array(r_B))\n",
    "win= (np.array(A)+np.array(B))%2 ==(np.array(r_A) & np.array(r_B))\n",
    "np.mean(win)"
   ]
  },
  {
   "cell_type": "code",
   "execution_count": 13,
   "metadata": {},
   "outputs": [
    {
     "data": {
      "text/plain": [
       "array([0], dtype=int8)"
      ]
     },
     "execution_count": 13,
     "metadata": {},
     "output_type": "execute_result"
    }
   ],
   "source": [
    "A"
   ]
  },
  {
   "cell_type": "code",
   "execution_count": null,
   "metadata": {},
   "outputs": [],
   "source": []
  }
 ],
 "metadata": {
  "kernelspec": {
   "display_name": "Python 3 (ipykernel)",
   "language": "python",
   "name": "python3"
  },
  "language_info": {
   "codemirror_mode": {
    "name": "ipython",
    "version": 3
   },
   "file_extension": ".py",
   "mimetype": "text/x-python",
   "name": "python",
   "nbconvert_exporter": "python",
   "pygments_lexer": "ipython3",
   "version": "3.9.13"
  }
 },
 "nbformat": 4,
 "nbformat_minor": 2
}
