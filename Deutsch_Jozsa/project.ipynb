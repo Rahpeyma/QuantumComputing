{
 "cells": [
  {
   "cell_type": "code",
   "execution_count": 15,
   "metadata": {},
   "outputs": [],
   "source": [
    "import cirq\n",
    "from cirq.contrib.svg import SVGCircuit\n",
    "import matplotlib.pyplot as plt\n",
    "import matplotlib \n",
    "\n",
    "def binary_labels(num_qubits):\n",
    "    return [bin(x)[2:].zfill(num_qubits) for x in range(2 ** num_qubits)]"
   ]
  },
  {
   "attachments": {},
   "cell_type": "markdown",
   "metadata": {},
   "source": [
    "## I assume that my first function is as follows:\n",
    "## $f(x)=FloorFunction[\\frac{x}{16}]$\n",
    "### and $(16)_{10}=(10000)_{2}$\n",
    "### According to the decimal form of the number 16 It is the first qubit that determines whether x is greater or less than 16 </br> (If the first qubit of a byte series is 1, that number must be greater than or equal to 16, and conversely, if the first qubit of a byte series is 0, that number must be less than 16 (In 5bits))"
   ]
  },
  {
   "attachments": {},
   "cell_type": "markdown",
   "metadata": {},
   "source": [
    "### $U_{f}|x\\rangle|y\\rangle=|x\\rangle|y \\oplus f(x)\\rangle$\n",
    "### $y$ is the last qubit\n",
    "### $if\\; x<16: U_{f}|x\\rangle|y\\rangle=|x\\rangle|y\\rangle$\n",
    "### $if\\; x \\geq 16: U_{f}|x\\rangle|y\\rangle=|x\\rangle X |y\\rangle$\n",
    "### so our circuit will be:\n"
   ]
  },
  {
   "cell_type": "code",
   "execution_count": 16,
   "metadata": {},
   "outputs": [],
   "source": [
    "circuit1 = cirq.Circuit()\n",
    "qq = cirq.LineQubit.range(6)\n",
    "circuit1.append(cirq.H.on_each((qq[0:5])))\n",
    "circuit1.append(cirq.X.on_each(qq[5]))\n",
    "circuit1.append(cirq.H.on_each(qq[5]))\n",
    "# oracle\n",
    "\n",
    "circuit1.append(cirq.X(qq[5]).controlled_by(qq[0]))\n",
    "circuit1.append(cirq.I.on_each(qq[1:5]))\n",
    "\n",
    "# -----\n",
    "circuit1.append(cirq.H.on_each((qq[0:5])))\n",
    "circuit1.append(cirq.measure((qq[0:5]), key='result'))"
   ]
  },
  {
   "cell_type": "code",
   "execution_count": 17,
   "metadata": {},
   "outputs": [
    {
     "data": {
      "image/svg+xml": [
       "<svg xmlns=\"http://www.w3.org/2000/svg\" width=\"469.021484375\" height=\"340.0\"><line x1=\"30.0\" x2=\"439.021484375\" y1=\"45.0\" y2=\"45.0\" stroke=\"#1967d2\" stroke-width=\"1\" /><line x1=\"30.0\" x2=\"439.021484375\" y1=\"95.0\" y2=\"95.0\" stroke=\"#1967d2\" stroke-width=\"1\" /><line x1=\"30.0\" x2=\"439.021484375\" y1=\"145.0\" y2=\"145.0\" stroke=\"#1967d2\" stroke-width=\"1\" /><line x1=\"30.0\" x2=\"439.021484375\" y1=\"195.0\" y2=\"195.0\" stroke=\"#1967d2\" stroke-width=\"1\" /><line x1=\"30.0\" x2=\"439.021484375\" y1=\"245.0\" y2=\"245.0\" stroke=\"#1967d2\" stroke-width=\"1\" /><line x1=\"30.0\" x2=\"439.021484375\" y1=\"295.0\" y2=\"295.0\" stroke=\"#1967d2\" stroke-width=\"1\" /><line x1=\"180.0\" x2=\"270.0\" y1=\"5.0\" y2=\"5.0\" stroke=\"black\" stroke-width=\"1\" /><line x1=\"180.0\" x2=\"270.0\" y1=\"335.0\" y2=\"335.0\" stroke=\"black\" stroke-width=\"1\" /><line x1=\"200.0\" x2=\"200.0\" y1=\"45.0\" y2=\"295.0\" stroke=\"black\" stroke-width=\"3\" /><line x1=\"384.5107421875\" x2=\"384.5107421875\" y1=\"45.0\" y2=\"245.0\" stroke=\"black\" stroke-width=\"3\" /><line x1=\"180.0\" x2=\"180.0\" y1=\"5.0\" y2=\"15.0\" stroke=\"black\" stroke-width=\"3\" /><line x1=\"270.0\" x2=\"270.0\" y1=\"5.0\" y2=\"15.0\" stroke=\"black\" stroke-width=\"3\" /><line x1=\"180.0\" x2=\"180.0\" y1=\"325.0\" y2=\"335.0\" stroke=\"black\" stroke-width=\"3\" /><line x1=\"270.0\" x2=\"270.0\" y1=\"325.0\" y2=\"335.0\" stroke=\"black\" stroke-width=\"3\" /><rect x=\"10.0\" y=\"25.0\" width=\"40\" height=\"40\" stroke=\"black\" fill=\"white\" stroke-width=\"0\" /><text x=\"30.0\" y=\"45.0\" dominant-baseline=\"middle\" text-anchor=\"middle\" font-size=\"14px\" font-family=\"Arial\">0: </text><rect x=\"10.0\" y=\"75.0\" width=\"40\" height=\"40\" stroke=\"black\" fill=\"white\" stroke-width=\"0\" /><text x=\"30.0\" y=\"95.0\" dominant-baseline=\"middle\" text-anchor=\"middle\" font-size=\"14px\" font-family=\"Arial\">1: </text><rect x=\"10.0\" y=\"125.0\" width=\"40\" height=\"40\" stroke=\"black\" fill=\"white\" stroke-width=\"0\" /><text x=\"30.0\" y=\"145.0\" dominant-baseline=\"middle\" text-anchor=\"middle\" font-size=\"14px\" font-family=\"Arial\">2: </text><rect x=\"10.0\" y=\"175.0\" width=\"40\" height=\"40\" stroke=\"black\" fill=\"white\" stroke-width=\"0\" /><text x=\"30.0\" y=\"195.0\" dominant-baseline=\"middle\" text-anchor=\"middle\" font-size=\"14px\" font-family=\"Arial\">3: </text><rect x=\"10.0\" y=\"225.0\" width=\"40\" height=\"40\" stroke=\"black\" fill=\"white\" stroke-width=\"0\" /><text x=\"30.0\" y=\"245.0\" dominant-baseline=\"middle\" text-anchor=\"middle\" font-size=\"14px\" font-family=\"Arial\">4: </text><rect x=\"10.0\" y=\"275.0\" width=\"40\" height=\"40\" stroke=\"black\" fill=\"white\" stroke-width=\"0\" /><text x=\"30.0\" y=\"295.0\" dominant-baseline=\"middle\" text-anchor=\"middle\" font-size=\"14px\" font-family=\"Arial\">5: </text><rect x=\"70.0\" y=\"25.0\" width=\"40\" height=\"40\" stroke=\"black\" fill=\"white\" stroke-width=\"1\" /><text x=\"90.0\" y=\"45.0\" dominant-baseline=\"middle\" text-anchor=\"middle\" font-size=\"18px\" font-family=\"Arial\">H</text><rect x=\"70.0\" y=\"75.0\" width=\"40\" height=\"40\" stroke=\"black\" fill=\"white\" stroke-width=\"1\" /><text x=\"90.0\" y=\"95.0\" dominant-baseline=\"middle\" text-anchor=\"middle\" font-size=\"18px\" font-family=\"Arial\">H</text><rect x=\"70.0\" y=\"125.0\" width=\"40\" height=\"40\" stroke=\"black\" fill=\"white\" stroke-width=\"1\" /><text x=\"90.0\" y=\"145.0\" dominant-baseline=\"middle\" text-anchor=\"middle\" font-size=\"18px\" font-family=\"Arial\">H</text><rect x=\"70.0\" y=\"175.0\" width=\"40\" height=\"40\" stroke=\"black\" fill=\"white\" stroke-width=\"1\" /><text x=\"90.0\" y=\"195.0\" dominant-baseline=\"middle\" text-anchor=\"middle\" font-size=\"18px\" font-family=\"Arial\">H</text><rect x=\"70.0\" y=\"225.0\" width=\"40\" height=\"40\" stroke=\"black\" fill=\"white\" stroke-width=\"1\" /><text x=\"90.0\" y=\"245.0\" dominant-baseline=\"middle\" text-anchor=\"middle\" font-size=\"18px\" font-family=\"Arial\">H</text><rect x=\"70.0\" y=\"275.0\" width=\"40\" height=\"40\" stroke=\"black\" fill=\"white\" stroke-width=\"1\" /><text x=\"90.0\" y=\"295.0\" dominant-baseline=\"middle\" text-anchor=\"middle\" font-size=\"18px\" font-family=\"Arial\">X</text><rect x=\"130.0\" y=\"275.0\" width=\"40\" height=\"40\" stroke=\"black\" fill=\"white\" stroke-width=\"1\" /><text x=\"150.0\" y=\"295.0\" dominant-baseline=\"middle\" text-anchor=\"middle\" font-size=\"18px\" font-family=\"Arial\">H</text><rect x=\"130.0\" y=\"75.0\" width=\"40\" height=\"40\" stroke=\"black\" fill=\"white\" stroke-width=\"1\" /><text x=\"150.0\" y=\"95.0\" dominant-baseline=\"middle\" text-anchor=\"middle\" font-size=\"18px\" font-family=\"Arial\">I</text><rect x=\"130.0\" y=\"125.0\" width=\"40\" height=\"40\" stroke=\"black\" fill=\"white\" stroke-width=\"1\" /><text x=\"150.0\" y=\"145.0\" dominant-baseline=\"middle\" text-anchor=\"middle\" font-size=\"18px\" font-family=\"Arial\">I</text><rect x=\"130.0\" y=\"175.0\" width=\"40\" height=\"40\" stroke=\"black\" fill=\"white\" stroke-width=\"1\" /><text x=\"150.0\" y=\"195.0\" dominant-baseline=\"middle\" text-anchor=\"middle\" font-size=\"18px\" font-family=\"Arial\">I</text><rect x=\"130.0\" y=\"225.0\" width=\"40\" height=\"40\" stroke=\"black\" fill=\"white\" stroke-width=\"1\" /><text x=\"150.0\" y=\"245.0\" dominant-baseline=\"middle\" text-anchor=\"middle\" font-size=\"18px\" font-family=\"Arial\">I</text><circle cx=\"200.0\" cy=\"45.0\" r=\"10.0\" /><rect x=\"180.0\" y=\"275.0\" width=\"40\" height=\"40\" stroke=\"black\" fill=\"white\" stroke-width=\"1\" /><text x=\"200.0\" y=\"295.0\" dominant-baseline=\"middle\" text-anchor=\"middle\" font-size=\"18px\" font-family=\"Arial\">X</text><rect x=\"220.0\" y=\"75.0\" width=\"40\" height=\"40\" stroke=\"black\" fill=\"white\" stroke-width=\"1\" /><text x=\"240.0\" y=\"95.0\" dominant-baseline=\"middle\" text-anchor=\"middle\" font-size=\"18px\" font-family=\"Arial\">H</text><rect x=\"220.0\" y=\"125.0\" width=\"40\" height=\"40\" stroke=\"black\" fill=\"white\" stroke-width=\"1\" /><text x=\"240.0\" y=\"145.0\" dominant-baseline=\"middle\" text-anchor=\"middle\" font-size=\"18px\" font-family=\"Arial\">H</text><rect x=\"220.0\" y=\"175.0\" width=\"40\" height=\"40\" stroke=\"black\" fill=\"white\" stroke-width=\"1\" /><text x=\"240.0\" y=\"195.0\" dominant-baseline=\"middle\" text-anchor=\"middle\" font-size=\"18px\" font-family=\"Arial\">H</text><rect x=\"220.0\" y=\"225.0\" width=\"40\" height=\"40\" stroke=\"black\" fill=\"white\" stroke-width=\"1\" /><text x=\"240.0\" y=\"245.0\" dominant-baseline=\"middle\" text-anchor=\"middle\" font-size=\"18px\" font-family=\"Arial\">H</text><rect x=\"290.0\" y=\"25.0\" width=\"40\" height=\"40\" stroke=\"black\" fill=\"white\" stroke-width=\"1\" /><text x=\"310.0\" y=\"45.0\" dominant-baseline=\"middle\" text-anchor=\"middle\" font-size=\"18px\" font-family=\"Arial\">H</text><rect x=\"350.0\" y=\"25.0\" width=\"69.021484375\" height=\"40\" stroke=\"black\" fill=\"white\" stroke-width=\"1\" /><text x=\"384.5107421875\" y=\"45.0\" dominant-baseline=\"middle\" text-anchor=\"middle\" font-size=\"14px\" font-family=\"Arial\">M('result')</text><rect x=\"350.0\" y=\"75.0\" width=\"69.021484375\" height=\"40\" stroke=\"black\" fill=\"white\" stroke-width=\"1\" /><text x=\"384.5107421875\" y=\"95.0\" dominant-baseline=\"middle\" text-anchor=\"middle\" font-size=\"18px\" font-family=\"Arial\">M</text><rect x=\"350.0\" y=\"125.0\" width=\"69.021484375\" height=\"40\" stroke=\"black\" fill=\"white\" stroke-width=\"1\" /><text x=\"384.5107421875\" y=\"145.0\" dominant-baseline=\"middle\" text-anchor=\"middle\" font-size=\"18px\" font-family=\"Arial\">M</text><rect x=\"350.0\" y=\"175.0\" width=\"69.021484375\" height=\"40\" stroke=\"black\" fill=\"white\" stroke-width=\"1\" /><text x=\"384.5107421875\" y=\"195.0\" dominant-baseline=\"middle\" text-anchor=\"middle\" font-size=\"18px\" font-family=\"Arial\">M</text><rect x=\"350.0\" y=\"225.0\" width=\"69.021484375\" height=\"40\" stroke=\"black\" fill=\"white\" stroke-width=\"1\" /><text x=\"384.5107421875\" y=\"245.0\" dominant-baseline=\"middle\" text-anchor=\"middle\" font-size=\"18px\" font-family=\"Arial\">M</text></svg>"
      ],
      "text/plain": [
       "<cirq.contrib.svg.svg.SVGCircuit at 0x1536a2490>"
      ]
     },
     "execution_count": 17,
     "metadata": {},
     "output_type": "execute_result"
    }
   ],
   "source": [
    "SVGCircuit(circuit1)"
   ]
  },
  {
   "cell_type": "code",
   "execution_count": 18,
   "metadata": {},
   "outputs": [
    {
     "name": "stderr",
     "output_type": "stream",
     "text": [
      "/opt/anaconda3/lib/python3.9/site-packages/cirq/vis/state_histogram.py:103: UserWarning: Matplotlib is currently using module://matplotlib_inline.backend_inline, which is a non-GUI backend, so cannot show the figure.\n",
      "  fig.show()\n"
     ]
    },
    {
     "data": {
      "image/png": "[encoded data removed]",
      "text/plain": [
       "<Figure size 640x480 with 1 Axes>"
      ]
     },
     "metadata": {},
     "output_type": "display_data"
    }
   ],
   "source": [
    "s=cirq.Simulator()\n",
    "sample=s.run(circuit1,repetitions=1000)\n",
    "\n",
    "cirq.plot_state_histogram(sample,tick_label=binary_labels(5))\n",
    "matplotlib.rc('xtick', labelsize=.2) \n",
    "matplotlib.rc('ytick', labelsize=7)\n",
    "plt.savefig(\"first_fuction.pdf\") "
   ]
  },
  {
   "attachments": {},
   "cell_type": "markdown",
   "metadata": {},
   "source": [
    "## I assume that my second function is as follows:\n",
    "## $f(x)=FloorFunction[\\frac{x}{31}]$ for x<31 and for x=31 $f(x)=0$\n",
    "### and $(31)_{10}=(11111)_{2}$\n",
    "### $U_{f}|x\\rangle|y\\rangle=|x\\rangle|y \\oplus f(x)\\rangle$\n",
    "### $y$ is the last qubit\n",
    "### $if\\; x \\leq 31: U_{f}|x\\rangle|y\\rangle=|x\\rangle|y\\rangle$\n",
    "### $if\\; x > 31: U_{f}|x\\rangle|y\\rangle=|x\\rangle X |y\\rangle$\n",
    "### According to the decimal form of the number 31 All of qubits that determine whether x is greater or less than 31 </br> (If all of qubits of a byte series are 1, that number must be equal to 31, so we must use CNOT controlled by all of qubits (Except of 6th)) \n",
    "### pay attention I use 2 CNOTs because $f(31)=0$\n",
    "### so our circuit will be:"
   ]
  },
  {
   "cell_type": "code",
   "execution_count": 19,
   "metadata": {},
   "outputs": [],
   "source": [
    "circuit2 = cirq.Circuit()\n",
    "qq = cirq.LineQubit.range(6)\n",
    "circuit2.append(cirq.H.on_each((qq[0:5])))\n",
    "circuit2.append(cirq.X.on_each(qq[5]))\n",
    "circuit2.append(cirq.H.on_each(qq[5]))\n",
    "# oracle\n",
    "# circuit2.append(cirq.X(qq[4]).controlled_by(qq[3]))\n",
    "circuit2.append(cirq.X(qq[5]).controlled_by(*(qq[0:5])))\n",
    "circuit2.append(cirq.X(qq[5]).controlled_by(*(qq[0:5])))\n",
    "# -----\n",
    "circuit2.append(cirq.H.on_each((qq[0:5])))\n",
    "circuit2.append(cirq.measure((qq[0:5]), key='result'))"
   ]
  },
  {
   "cell_type": "code",
   "execution_count": 20,
   "metadata": {},
   "outputs": [
    {
     "data": {
      "image/svg+xml": [
       "<svg xmlns=\"http://www.w3.org/2000/svg\" width=\"489.021484375\" height=\"300.0\"><line x1=\"30.0\" x2=\"459.021484375\" y1=\"25.0\" y2=\"25.0\" stroke=\"#1967d2\" stroke-width=\"1\" /><line x1=\"30.0\" x2=\"459.021484375\" y1=\"75.0\" y2=\"75.0\" stroke=\"#1967d2\" stroke-width=\"1\" /><line x1=\"30.0\" x2=\"459.021484375\" y1=\"125.0\" y2=\"125.0\" stroke=\"#1967d2\" stroke-width=\"1\" /><line x1=\"30.0\" x2=\"459.021484375\" y1=\"175.0\" y2=\"175.0\" stroke=\"#1967d2\" stroke-width=\"1\" /><line x1=\"30.0\" x2=\"459.021484375\" y1=\"225.0\" y2=\"225.0\" stroke=\"#1967d2\" stroke-width=\"1\" /><line x1=\"30.0\" x2=\"459.021484375\" y1=\"275.0\" y2=\"275.0\" stroke=\"#1967d2\" stroke-width=\"1\" /><line x1=\"210.0\" x2=\"210.0\" y1=\"25.0\" y2=\"275.0\" stroke=\"black\" stroke-width=\"3\" /><line x1=\"270.0\" x2=\"270.0\" y1=\"25.0\" y2=\"275.0\" stroke=\"black\" stroke-width=\"3\" /><line x1=\"404.5107421875\" x2=\"404.5107421875\" y1=\"25.0\" y2=\"225.0\" stroke=\"black\" stroke-width=\"3\" /><rect x=\"10.0\" y=\"5.0\" width=\"40\" height=\"40\" stroke=\"black\" fill=\"white\" stroke-width=\"0\" /><text x=\"30.0\" y=\"25.0\" dominant-baseline=\"middle\" text-anchor=\"middle\" font-size=\"14px\" font-family=\"Arial\">0: </text><rect x=\"10.0\" y=\"55.0\" width=\"40\" height=\"40\" stroke=\"black\" fill=\"white\" stroke-width=\"0\" /><text x=\"30.0\" y=\"75.0\" dominant-baseline=\"middle\" text-anchor=\"middle\" font-size=\"14px\" font-family=\"Arial\">1: </text><rect x=\"10.0\" y=\"105.0\" width=\"40\" height=\"40\" stroke=\"black\" fill=\"white\" stroke-width=\"0\" /><text x=\"30.0\" y=\"125.0\" dominant-baseline=\"middle\" text-anchor=\"middle\" font-size=\"14px\" font-family=\"Arial\">2: </text><rect x=\"10.0\" y=\"155.0\" width=\"40\" height=\"40\" stroke=\"black\" fill=\"white\" stroke-width=\"0\" /><text x=\"30.0\" y=\"175.0\" dominant-baseline=\"middle\" text-anchor=\"middle\" font-size=\"14px\" font-family=\"Arial\">3: </text><rect x=\"10.0\" y=\"205.0\" width=\"40\" height=\"40\" stroke=\"black\" fill=\"white\" stroke-width=\"0\" /><text x=\"30.0\" y=\"225.0\" dominant-baseline=\"middle\" text-anchor=\"middle\" font-size=\"14px\" font-family=\"Arial\">4: </text><rect x=\"10.0\" y=\"255.0\" width=\"40\" height=\"40\" stroke=\"black\" fill=\"white\" stroke-width=\"0\" /><text x=\"30.0\" y=\"275.0\" dominant-baseline=\"middle\" text-anchor=\"middle\" font-size=\"14px\" font-family=\"Arial\">5: </text><rect x=\"70.0\" y=\"5.0\" width=\"40\" height=\"40\" stroke=\"black\" fill=\"white\" stroke-width=\"1\" /><text x=\"90.0\" y=\"25.0\" dominant-baseline=\"middle\" text-anchor=\"middle\" font-size=\"18px\" font-family=\"Arial\">H</text><rect x=\"70.0\" y=\"55.0\" width=\"40\" height=\"40\" stroke=\"black\" fill=\"white\" stroke-width=\"1\" /><text x=\"90.0\" y=\"75.0\" dominant-baseline=\"middle\" text-anchor=\"middle\" font-size=\"18px\" font-family=\"Arial\">H</text><rect x=\"70.0\" y=\"105.0\" width=\"40\" height=\"40\" stroke=\"black\" fill=\"white\" stroke-width=\"1\" /><text x=\"90.0\" y=\"125.0\" dominant-baseline=\"middle\" text-anchor=\"middle\" font-size=\"18px\" font-family=\"Arial\">H</text><rect x=\"70.0\" y=\"155.0\" width=\"40\" height=\"40\" stroke=\"black\" fill=\"white\" stroke-width=\"1\" /><text x=\"90.0\" y=\"175.0\" dominant-baseline=\"middle\" text-anchor=\"middle\" font-size=\"18px\" font-family=\"Arial\">H</text><rect x=\"70.0\" y=\"205.0\" width=\"40\" height=\"40\" stroke=\"black\" fill=\"white\" stroke-width=\"1\" /><text x=\"90.0\" y=\"225.0\" dominant-baseline=\"middle\" text-anchor=\"middle\" font-size=\"18px\" font-family=\"Arial\">H</text><rect x=\"70.0\" y=\"255.0\" width=\"40\" height=\"40\" stroke=\"black\" fill=\"white\" stroke-width=\"1\" /><text x=\"90.0\" y=\"275.0\" dominant-baseline=\"middle\" text-anchor=\"middle\" font-size=\"18px\" font-family=\"Arial\">X</text><rect x=\"130.0\" y=\"255.0\" width=\"40\" height=\"40\" stroke=\"black\" fill=\"white\" stroke-width=\"1\" /><text x=\"150.0\" y=\"275.0\" dominant-baseline=\"middle\" text-anchor=\"middle\" font-size=\"18px\" font-family=\"Arial\">H</text><circle cx=\"210.0\" cy=\"25.0\" r=\"10.0\" /><circle cx=\"210.0\" cy=\"75.0\" r=\"10.0\" /><circle cx=\"210.0\" cy=\"125.0\" r=\"10.0\" /><circle cx=\"210.0\" cy=\"175.0\" r=\"10.0\" /><circle cx=\"210.0\" cy=\"225.0\" r=\"10.0\" /><rect x=\"190.0\" y=\"255.0\" width=\"40\" height=\"40\" stroke=\"black\" fill=\"white\" stroke-width=\"1\" /><text x=\"210.0\" y=\"275.0\" dominant-baseline=\"middle\" text-anchor=\"middle\" font-size=\"18px\" font-family=\"Arial\">X</text><circle cx=\"270.0\" cy=\"25.0\" r=\"10.0\" /><circle cx=\"270.0\" cy=\"75.0\" r=\"10.0\" /><circle cx=\"270.0\" cy=\"125.0\" r=\"10.0\" /><circle cx=\"270.0\" cy=\"175.0\" r=\"10.0\" /><circle cx=\"270.0\" cy=\"225.0\" r=\"10.0\" /><rect x=\"250.0\" y=\"255.0\" width=\"40\" height=\"40\" stroke=\"black\" fill=\"white\" stroke-width=\"1\" /><text x=\"270.0\" y=\"275.0\" dominant-baseline=\"middle\" text-anchor=\"middle\" font-size=\"18px\" font-family=\"Arial\">X</text><rect x=\"310.0\" y=\"5.0\" width=\"40\" height=\"40\" stroke=\"black\" fill=\"white\" stroke-width=\"1\" /><text x=\"330.0\" y=\"25.0\" dominant-baseline=\"middle\" text-anchor=\"middle\" font-size=\"18px\" font-family=\"Arial\">H</text><rect x=\"310.0\" y=\"55.0\" width=\"40\" height=\"40\" stroke=\"black\" fill=\"white\" stroke-width=\"1\" /><text x=\"330.0\" y=\"75.0\" dominant-baseline=\"middle\" text-anchor=\"middle\" font-size=\"18px\" font-family=\"Arial\">H</text><rect x=\"310.0\" y=\"105.0\" width=\"40\" height=\"40\" stroke=\"black\" fill=\"white\" stroke-width=\"1\" /><text x=\"330.0\" y=\"125.0\" dominant-baseline=\"middle\" text-anchor=\"middle\" font-size=\"18px\" font-family=\"Arial\">H</text><rect x=\"310.0\" y=\"155.0\" width=\"40\" height=\"40\" stroke=\"black\" fill=\"white\" stroke-width=\"1\" /><text x=\"330.0\" y=\"175.0\" dominant-baseline=\"middle\" text-anchor=\"middle\" font-size=\"18px\" font-family=\"Arial\">H</text><rect x=\"310.0\" y=\"205.0\" width=\"40\" height=\"40\" stroke=\"black\" fill=\"white\" stroke-width=\"1\" /><text x=\"330.0\" y=\"225.0\" dominant-baseline=\"middle\" text-anchor=\"middle\" font-size=\"18px\" font-family=\"Arial\">H</text><rect x=\"370.0\" y=\"5.0\" width=\"69.021484375\" height=\"40\" stroke=\"black\" fill=\"white\" stroke-width=\"1\" /><text x=\"404.5107421875\" y=\"25.0\" dominant-baseline=\"middle\" text-anchor=\"middle\" font-size=\"14px\" font-family=\"Arial\">M('result')</text><rect x=\"370.0\" y=\"55.0\" width=\"69.021484375\" height=\"40\" stroke=\"black\" fill=\"white\" stroke-width=\"1\" /><text x=\"404.5107421875\" y=\"75.0\" dominant-baseline=\"middle\" text-anchor=\"middle\" font-size=\"18px\" font-family=\"Arial\">M</text><rect x=\"370.0\" y=\"105.0\" width=\"69.021484375\" height=\"40\" stroke=\"black\" fill=\"white\" stroke-width=\"1\" /><text x=\"404.5107421875\" y=\"125.0\" dominant-baseline=\"middle\" text-anchor=\"middle\" font-size=\"18px\" font-family=\"Arial\">M</text><rect x=\"370.0\" y=\"155.0\" width=\"69.021484375\" height=\"40\" stroke=\"black\" fill=\"white\" stroke-width=\"1\" /><text x=\"404.5107421875\" y=\"175.0\" dominant-baseline=\"middle\" text-anchor=\"middle\" font-size=\"18px\" font-family=\"Arial\">M</text><rect x=\"370.0\" y=\"205.0\" width=\"69.021484375\" height=\"40\" stroke=\"black\" fill=\"white\" stroke-width=\"1\" /><text x=\"404.5107421875\" y=\"225.0\" dominant-baseline=\"middle\" text-anchor=\"middle\" font-size=\"18px\" font-family=\"Arial\">M</text></svg>"
      ],
      "text/plain": [
       "<cirq.contrib.svg.svg.SVGCircuit at 0x15365bdf0>"
      ]
     },
     "execution_count": 20,
     "metadata": {},
     "output_type": "execute_result"
    }
   ],
   "source": [
    "SVGCircuit(circuit2)"
   ]
  },
  {
   "cell_type": "code",
   "execution_count": 21,
   "metadata": {},
   "outputs": [
    {
     "name": "stderr",
     "output_type": "stream",
     "text": [
      "/opt/anaconda3/lib/python3.9/site-packages/cirq/vis/state_histogram.py:103: UserWarning: Matplotlib is currently using module://matplotlib_inline.backend_inline, which is a non-GUI backend, so cannot show the figure.\n",
      "  fig.show()\n"
     ]
    },
    {
     "data": {
      "image/png": "[encoded data removed]",
      "text/plain": [
       "<Figure size 640x480 with 1 Axes>"
      ]
     },
     "metadata": {},
     "output_type": "display_data"
    }
   ],
   "source": [
    "\n",
    "\n",
    "s=cirq.Simulator()\n",
    "sample=s.run(circuit2,repetitions=1000)\n",
    "\n",
    "cirq.plot_state_histogram(sample,tick_label=binary_labels(5))\n",
    "# plt.xlim(right=6)\n",
    "matplotlib.rc('xtick', labelsize=.3) \n",
    "matplotlib.rc('ytick', labelsize=7)\n",
    "plt.savefig(\"second_function.pdf\") "
   ]
  },
  {
   "attachments": {},
   "cell_type": "markdown",
   "metadata": {},
   "source": [
    "##### it's better see the results in \"second_fuction.pdf\""
   ]
  },
  {
   "attachments": {},
   "cell_type": "markdown",
   "metadata": {},
   "source": [
    "# Now I wanna show states of system in each step"
   ]
  },
  {
   "attachments": {},
   "cell_type": "markdown",
   "metadata": {},
   "source": [
    "### for frist function"
   ]
  },
  {
   "attachments": {},
   "cell_type": "markdown",
   "metadata": {},
   "source": [
    "#### step1"
   ]
  },
  {
   "cell_type": "code",
   "execution_count": 22,
   "metadata": {},
   "outputs": [
    {
     "name": "stdout",
     "output_type": "stream",
     "text": [
      "0: ───H───────\n",
      "\n",
      "1: ───H───────\n",
      "\n",
      "2: ───H───────\n",
      "\n",
      "3: ───H───────\n",
      "\n",
      "4: ───H───────\n",
      "\n",
      "5: ───X───H───\n"
     ]
    },
    {
     "data": {
      "text/plain": [
       "'0.12|000000⟩ - 0.12|000001⟩ + 0.12|000010⟩ - 0.12|000011⟩ + 0.12|000100⟩ - 0.12|000101⟩ + 0.12|000110⟩ - 0.12|000111⟩ + 0.12|001000⟩ - 0.12|001001⟩ + 0.12|001010⟩ - 0.12|001011⟩ + 0.12|001100⟩ - 0.12|001101⟩ + 0.12|001110⟩ - 0.12|001111⟩ + 0.12|010000⟩ - 0.12|010001⟩ + 0.12|010010⟩ - 0.12|010011⟩ + 0.12|010100⟩ - 0.12|010101⟩ + 0.12|010110⟩ - 0.12|010111⟩ + 0.12|011000⟩ - 0.12|011001⟩ + 0.12|011010⟩ - 0.12|011011⟩ + 0.12|011100⟩ - 0.12|011101⟩ + 0.12|011110⟩ - 0.12|011111⟩ + 0.12|100000⟩ - 0.12|100001⟩ + 0.12|100010⟩ - 0.12|100011⟩ + 0.12|100100⟩ - 0.12|100101⟩ + 0.12|100110⟩ - 0.12|100111⟩ + 0.12|101000⟩ - 0.12|101001⟩ + 0.12|101010⟩ - 0.12|101011⟩ + 0.12|101100⟩ - 0.12|101101⟩ + 0.12|101110⟩ - 0.12|101111⟩ + 0.12|110000⟩ - 0.12|110001⟩ + 0.12|110010⟩ - 0.12|110011⟩ + 0.12|110100⟩ - 0.12|110101⟩ + 0.12|110110⟩ - 0.12|110111⟩ + 0.12|111000⟩ - 0.12|111001⟩ + 0.12|111010⟩ - 0.12|111011⟩ + 0.12|111100⟩ - 0.12|111101⟩ + 0.12|111110⟩ - 0.12|111111⟩'"
      ]
     },
     "execution_count": 22,
     "metadata": {},
     "output_type": "execute_result"
    }
   ],
   "source": [
    "circuit1 = cirq.Circuit()\n",
    "qq = cirq.LineQubit.range(6)\n",
    "circuit1.append(cirq.H.on_each((qq[0:5])))\n",
    "circuit1.append(cirq.X.on_each(qq[5]))\n",
    "circuit1.append(cirq.H.on_each(qq[5]))\n",
    "print(circuit1)\n",
    "result=s.simulate(circuit1,qubit_order=[qq[i] for i in range(6)])\n",
    "result.dirac_notation()\n"
   ]
  },
  {
   "attachments": {},
   "cell_type": "markdown",
   "metadata": {},
   "source": [
    "##### step2"
   ]
  },
  {
   "cell_type": "code",
   "execution_count": 23,
   "metadata": {},
   "outputs": [
    {
     "name": "stdout",
     "output_type": "stream",
     "text": [
      "0: ───H───────@───\n",
      "              │\n",
      "1: ───H───I───┼───\n",
      "              │\n",
      "2: ───H───I───┼───\n",
      "              │\n",
      "3: ───H───I───┼───\n",
      "              │\n",
      "4: ───H───I───┼───\n",
      "              │\n",
      "5: ───X───H───X───\n"
     ]
    },
    {
     "data": {
      "text/plain": [
       "'0.12|000000⟩ - 0.12|000001⟩ + 0.12|000010⟩ - 0.12|000011⟩ + 0.12|000100⟩ - 0.12|000101⟩ + 0.12|000110⟩ - 0.12|000111⟩ + 0.12|001000⟩ - 0.12|001001⟩ + 0.12|001010⟩ - 0.12|001011⟩ + 0.12|001100⟩ - 0.12|001101⟩ + 0.12|001110⟩ - 0.12|001111⟩ + 0.12|010000⟩ - 0.12|010001⟩ + 0.12|010010⟩ - 0.12|010011⟩ + 0.12|010100⟩ - 0.12|010101⟩ + 0.12|010110⟩ - 0.12|010111⟩ + 0.12|011000⟩ - 0.12|011001⟩ + 0.12|011010⟩ - 0.12|011011⟩ + 0.12|011100⟩ - 0.12|011101⟩ + 0.12|011110⟩ - 0.12|011111⟩ - 0.12|100000⟩ + 0.12|100001⟩ - 0.12|100010⟩ + 0.12|100011⟩ - 0.12|100100⟩ + 0.12|100101⟩ - 0.12|100110⟩ + 0.12|100111⟩ - 0.12|101000⟩ + 0.12|101001⟩ - 0.12|101010⟩ + 0.12|101011⟩ - 0.12|101100⟩ + 0.12|101101⟩ - 0.12|101110⟩ + 0.12|101111⟩ - 0.12|110000⟩ + 0.12|110001⟩ - 0.12|110010⟩ + 0.12|110011⟩ - 0.12|110100⟩ + 0.12|110101⟩ - 0.12|110110⟩ + 0.12|110111⟩ - 0.12|111000⟩ + 0.12|111001⟩ - 0.12|111010⟩ + 0.12|111011⟩ - 0.12|111100⟩ + 0.12|111101⟩ - 0.12|111110⟩ + 0.12|111111⟩'"
      ]
     },
     "execution_count": 23,
     "metadata": {},
     "output_type": "execute_result"
    }
   ],
   "source": [
    "circuit1.append(cirq.X(qq[5]).controlled_by(qq[0]))\n",
    "circuit1.append(cirq.I.on_each(qq[1:5]))\n",
    "print(circuit1)\n",
    "result=s.simulate(circuit1,qubit_order=[qq[i] for i in range(6)])\n",
    "result.dirac_notation()"
   ]
  },
  {
   "attachments": {},
   "cell_type": "markdown",
   "metadata": {},
   "source": [
    "#### step3"
   ]
  },
  {
   "cell_type": "code",
   "execution_count": 24,
   "metadata": {},
   "outputs": [
    {
     "name": "stdout",
     "output_type": "stream",
     "text": [
      "              ┌──┐\n",
      "0: ───H────────@─────H───\n",
      "               │\n",
      "1: ───H───I────┼H────────\n",
      "               │\n",
      "2: ───H───I────┼H────────\n",
      "               │\n",
      "3: ───H───I────┼H────────\n",
      "               │\n",
      "4: ───H───I────┼H────────\n",
      "               │\n",
      "5: ───X───H────X─────────\n",
      "              └──┘\n"
     ]
    },
    {
     "data": {
      "text/plain": [
       "'0.71|100000⟩ - 0.71|100001⟩'"
      ]
     },
     "execution_count": 24,
     "metadata": {},
     "output_type": "execute_result"
    }
   ],
   "source": [
    "circuit1.append(cirq.H.on_each((qq[0:5])))\n",
    "print(circuit1)\n",
    "result=s.simulate(circuit1,qubit_order=[qq[i] for i in range(6)])\n",
    "result.dirac_notation()"
   ]
  },
  {
   "attachments": {},
   "cell_type": "markdown",
   "metadata": {},
   "source": [
    "# For second function "
   ]
  },
  {
   "attachments": {},
   "cell_type": "markdown",
   "metadata": {},
   "source": [
    "#### step1"
   ]
  },
  {
   "cell_type": "code",
   "execution_count": 25,
   "metadata": {},
   "outputs": [
    {
     "name": "stdout",
     "output_type": "stream",
     "text": [
      "0: ───H───────\n",
      "\n",
      "1: ───H───────\n",
      "\n",
      "2: ───H───────\n",
      "\n",
      "3: ───H───────\n",
      "\n",
      "4: ───H───────\n",
      "\n",
      "5: ───X───H───\n"
     ]
    },
    {
     "data": {
      "text/plain": [
       "'0.12|000000⟩ - 0.12|000001⟩ + 0.12|000010⟩ - 0.12|000011⟩ + 0.12|000100⟩ - 0.12|000101⟩ + 0.12|000110⟩ - 0.12|000111⟩ + 0.12|001000⟩ - 0.12|001001⟩ + 0.12|001010⟩ - 0.12|001011⟩ + 0.12|001100⟩ - 0.12|001101⟩ + 0.12|001110⟩ - 0.12|001111⟩ + 0.12|010000⟩ - 0.12|010001⟩ + 0.12|010010⟩ - 0.12|010011⟩ + 0.12|010100⟩ - 0.12|010101⟩ + 0.12|010110⟩ - 0.12|010111⟩ + 0.12|011000⟩ - 0.12|011001⟩ + 0.12|011010⟩ - 0.12|011011⟩ + 0.12|011100⟩ - 0.12|011101⟩ + 0.12|011110⟩ - 0.12|011111⟩ + 0.12|100000⟩ - 0.12|100001⟩ + 0.12|100010⟩ - 0.12|100011⟩ + 0.12|100100⟩ - 0.12|100101⟩ + 0.12|100110⟩ - 0.12|100111⟩ + 0.12|101000⟩ - 0.12|101001⟩ + 0.12|101010⟩ - 0.12|101011⟩ + 0.12|101100⟩ - 0.12|101101⟩ + 0.12|101110⟩ - 0.12|101111⟩ + 0.12|110000⟩ - 0.12|110001⟩ + 0.12|110010⟩ - 0.12|110011⟩ + 0.12|110100⟩ - 0.12|110101⟩ + 0.12|110110⟩ - 0.12|110111⟩ + 0.12|111000⟩ - 0.12|111001⟩ + 0.12|111010⟩ - 0.12|111011⟩ + 0.12|111100⟩ - 0.12|111101⟩ + 0.12|111110⟩ - 0.12|111111⟩'"
      ]
     },
     "execution_count": 25,
     "metadata": {},
     "output_type": "execute_result"
    }
   ],
   "source": [
    "circuit2 = cirq.Circuit()\n",
    "qq = cirq.LineQubit.range(6)\n",
    "circuit2.append(cirq.H.on_each((qq[0:5])))\n",
    "circuit2.append(cirq.X.on_each(qq[5]))\n",
    "circuit2.append(cirq.H.on_each(qq[5]))\n",
    "print(circuit2)\n",
    "result=s.simulate(circuit2,qubit_order=[qq[i] for i in range(6)])\n",
    "result.dirac_notation()"
   ]
  },
  {
   "attachments": {},
   "cell_type": "markdown",
   "metadata": {},
   "source": [
    "#### step 2"
   ]
  },
  {
   "cell_type": "code",
   "execution_count": 26,
   "metadata": {},
   "outputs": [
    {
     "name": "stdout",
     "output_type": "stream",
     "text": [
      "0: ───H───────@───\n",
      "              │\n",
      "1: ───H───────@───\n",
      "              │\n",
      "2: ───H───────@───\n",
      "              │\n",
      "3: ───H───────@───\n",
      "              │\n",
      "4: ───H───────@───\n",
      "              │\n",
      "5: ───X───H───X───\n"
     ]
    },
    {
     "data": {
      "text/plain": [
       "'0.12|000000⟩ - 0.12|000001⟩ + 0.12|000010⟩ - 0.12|000011⟩ + 0.12|000100⟩ - 0.12|000101⟩ + 0.12|000110⟩ - 0.12|000111⟩ + 0.12|001000⟩ - 0.12|001001⟩ + 0.12|001010⟩ - 0.12|001011⟩ + 0.12|001100⟩ - 0.12|001101⟩ + 0.12|001110⟩ - 0.12|001111⟩ + 0.12|010000⟩ - 0.12|010001⟩ + 0.12|010010⟩ - 0.12|010011⟩ + 0.12|010100⟩ - 0.12|010101⟩ + 0.12|010110⟩ - 0.12|010111⟩ + 0.12|011000⟩ - 0.12|011001⟩ + 0.12|011010⟩ - 0.12|011011⟩ + 0.12|011100⟩ - 0.12|011101⟩ + 0.12|011110⟩ - 0.12|011111⟩ + 0.12|100000⟩ - 0.12|100001⟩ + 0.12|100010⟩ - 0.12|100011⟩ + 0.12|100100⟩ - 0.12|100101⟩ + 0.12|100110⟩ - 0.12|100111⟩ + 0.12|101000⟩ - 0.12|101001⟩ + 0.12|101010⟩ - 0.12|101011⟩ + 0.12|101100⟩ - 0.12|101101⟩ + 0.12|101110⟩ - 0.12|101111⟩ + 0.12|110000⟩ - 0.12|110001⟩ + 0.12|110010⟩ - 0.12|110011⟩ + 0.12|110100⟩ - 0.12|110101⟩ + 0.12|110110⟩ - 0.12|110111⟩ + 0.12|111000⟩ - 0.12|111001⟩ + 0.12|111010⟩ - 0.12|111011⟩ + 0.12|111100⟩ - 0.12|111101⟩ - 0.12|111110⟩ + 0.12|111111⟩'"
      ]
     },
     "execution_count": 26,
     "metadata": {},
     "output_type": "execute_result"
    }
   ],
   "source": [
    "# oracle\n",
    "circuit2.append(cirq.X(qq[5]).controlled_by(*(qq[0:5])))\n",
    "# -----\n",
    "print(circuit2)\n",
    "result=s.simulate(circuit2,qubit_order=[qq[i] for i in range(6)])\n",
    "result.dirac_notation()"
   ]
  },
  {
   "attachments": {},
   "cell_type": "markdown",
   "metadata": {},
   "source": [
    "#### step 3"
   ]
  },
  {
   "cell_type": "code",
   "execution_count": 27,
   "metadata": {},
   "outputs": [
    {
     "name": "stdout",
     "output_type": "stream",
     "text": [
      "0: ───H───────@───@───\n",
      "              │   │\n",
      "1: ───H───────@───@───\n",
      "              │   │\n",
      "2: ───H───────@───@───\n",
      "              │   │\n",
      "3: ───H───────@───@───\n",
      "              │   │\n",
      "4: ───H───────@───@───\n",
      "              │   │\n",
      "5: ───X───H───X───X───\n"
     ]
    },
    {
     "data": {
      "text/plain": [
       "'0.12|000000⟩ - 0.12|000001⟩ + 0.12|000010⟩ - 0.12|000011⟩ + 0.12|000100⟩ - 0.12|000101⟩ + 0.12|000110⟩ - 0.12|000111⟩ + 0.12|001000⟩ - 0.12|001001⟩ + 0.12|001010⟩ - 0.12|001011⟩ + 0.12|001100⟩ - 0.12|001101⟩ + 0.12|001110⟩ - 0.12|001111⟩ + 0.12|010000⟩ - 0.12|010001⟩ + 0.12|010010⟩ - 0.12|010011⟩ + 0.12|010100⟩ - 0.12|010101⟩ + 0.12|010110⟩ - 0.12|010111⟩ + 0.12|011000⟩ - 0.12|011001⟩ + 0.12|011010⟩ - 0.12|011011⟩ + 0.12|011100⟩ - 0.12|011101⟩ + 0.12|011110⟩ - 0.12|011111⟩ + 0.12|100000⟩ - 0.12|100001⟩ + 0.12|100010⟩ - 0.12|100011⟩ + 0.12|100100⟩ - 0.12|100101⟩ + 0.12|100110⟩ - 0.12|100111⟩ + 0.12|101000⟩ - 0.12|101001⟩ + 0.12|101010⟩ - 0.12|101011⟩ + 0.12|101100⟩ - 0.12|101101⟩ + 0.12|101110⟩ - 0.12|101111⟩ + 0.12|110000⟩ - 0.12|110001⟩ + 0.12|110010⟩ - 0.12|110011⟩ + 0.12|110100⟩ - 0.12|110101⟩ + 0.12|110110⟩ - 0.12|110111⟩ + 0.12|111000⟩ - 0.12|111001⟩ + 0.12|111010⟩ - 0.12|111011⟩ + 0.12|111100⟩ - 0.12|111101⟩ + 0.12|111110⟩ - 0.12|111111⟩'"
      ]
     },
     "execution_count": 27,
     "metadata": {},
     "output_type": "execute_result"
    }
   ],
   "source": [
    "\n",
    "circuit2.append(cirq.X(qq[5]).controlled_by(*(qq[0:5])))\n",
    "# -----\n",
    "print(circuit2)\n",
    "result=s.simulate(circuit2,qubit_order=[qq[i] for i in range(6)])\n",
    "result.dirac_notation()"
   ]
  },
  {
   "cell_type": "code",
   "execution_count": 28,
   "metadata": {},
   "outputs": [
    {
     "name": "stdout",
     "output_type": "stream",
     "text": [
      "0: ───H───────@───@───H───\n",
      "              │   │\n",
      "1: ───H───────@───@───H───\n",
      "              │   │\n",
      "2: ───H───────@───@───H───\n",
      "              │   │\n",
      "3: ───H───────@───@───H───\n",
      "              │   │\n",
      "4: ───H───────@───@───H───\n",
      "              │   │\n",
      "5: ───X───H───X───X───────\n"
     ]
    },
    {
     "data": {
      "text/plain": [
       "'0.71|000000⟩ - 0.71|000001⟩'"
      ]
     },
     "execution_count": 28,
     "metadata": {},
     "output_type": "execute_result"
    }
   ],
   "source": [
    "circuit2.append(cirq.H.on_each((qq[0:5])))\n",
    "print(circuit2)\n",
    "result=s.simulate(circuit2,qubit_order=[qq[i] for i in range(6)])\n",
    "result.dirac_notation()"
   ]
  },
  {
   "attachments": {},
   "cell_type": "markdown",
   "metadata": {},
   "source": [
    "# Conclusion"
   ]
  },
  {
   "attachments": {},
   "cell_type": "markdown",
   "metadata": {},
   "source": [
    "## The advantage of the Deutsch-Jozsa algorithm is that I don't need to put all the values in the desired function to determine whether the function is the balanced or constant (sometimes less, depending on what assumptions I have for the function (for exp $2^{n-1}+1$)).\n"
   ]
  },
  {
   "attachments": {},
   "cell_type": "markdown",
   "metadata": {},
   "source": []
  }
 ],
 "metadata": {
  "kernelspec": {
   "display_name": "Python 3 (ipykernel)",
   "language": "python",
   "name": "python3"
  },
  "language_info": {
   "codemirror_mode": {
    "name": "ipython",
    "version": 3
   },
   "file_extension": ".py",
   "mimetype": "text/x-python",
   "name": "python",
   "nbconvert_exporter": "python",
   "pygments_lexer": "ipython3",
   "version": "3.9.13"
  }
 },
 "nbformat": 4,
 "nbformat_minor": 2
}
