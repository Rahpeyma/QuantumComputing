{
 "cells": [
  {
   "cell_type": "code",
   "execution_count": 22,
   "metadata": {},
   "outputs": [],
   "source": [
    "# useful packages \n",
    "import numpy as np\n",
    "import random as rand\n",
    "\n",
    "# importing Qiskit\n",
    "from qiskit import BasicAer\n",
    "from qiskit import QuantumCircuit, ClassicalRegister, QuantumRegister, execute"
   ]
  },
  {
   "cell_type": "code",
   "execution_count": 23,
   "metadata": {},
   "outputs": [],
   "source": [
    "def qAlice_output(strategy, inp):\n",
    "    if(strategy == 1):\n",
    "        return 0\n",
    "    \n",
    "    elif(strategy == 2):\n",
    "        return rand.uniform(0,2*np.pi)\n",
    "    \n",
    "    elif(strategy == 3):\n",
    "        if(inp == 0):\n",
    "            return 0\n",
    "        elif(inp == 1):\n",
    "            return np.pi/2        \n",
    "            \n",
    "    else:\n",
    "        print(\"INVALID choice\")\n",
    "        return 100\n",
    "    \n",
    "\n",
    "def qBob_output(strategy, inp):\n",
    "    if(strategy == 1):\n",
    "        return 0\n",
    "    \n",
    "    elif(strategy == 2):\n",
    "        return rand.uniform(0,2*np.pi)\n",
    "    \n",
    "    elif(strategy == 3):\n",
    "        if(inp == 0):\n",
    "            return np.pi/4\n",
    "        elif(inp == 1):\n",
    "            return -np.pi/4        \n",
    "            \n",
    "    else:\n",
    "        print(\"INVALID choice\")\n",
    "        return 100"
   ]
  },
  {
   "cell_type": "code",
   "execution_count": 24,
   "metadata": {},
   "outputs": [],
   "source": [
    "# Alice's strategy\n",
    "qA_st = int(input('select the quantum strategy for Alice, input 1,2 or 3 to pick one of the strategies listed above: '))\n",
    "\n",
    "# Bob's strategy\n",
    "qB_st = int(input('select the quantum strategy for Bob, input 1,2 or 3 to pick one of the strategies listed above: '))"
   ]
  },
  {
   "cell_type": "code",
   "execution_count": 38,
   "metadata": {},
   "outputs": [
    {
     "name": "stdout",
     "output_type": "stream",
     "text": [
      "Alice and Bob won the game with probability:  89.0 %\n"
     ]
    }
   ],
   "source": [
    "# set parameters of the quantum run of the game \n",
    "shots = 1 # set how many times the circuit is run, accumulating statistics about the measurement outcomes \n",
    "backend = BasicAer.get_backend('qasm_simulator') # set the machine where the quantum circuit is to be run   \n",
    "\n",
    "#fixes the numbers of games to be played\n",
    "N=100\n",
    "\n",
    "# initializes counters used to keep track of the numbers of games won and played by Alice an Bob\n",
    "cont_win = 0 # counts games won\n",
    "cont_tot = 0 # counts games played\n",
    "\n",
    "#play N games\n",
    "for i in range(N):\n",
    "\n",
    "    # creates registers for qubits and bits\n",
    "    # creates a quantum register, it specifies the qubits which are going to be used for the program\n",
    "    q = QuantumRegister(2, name='q') \n",
    "    # creates a classical register, the results of the measurement of the qubits are stored here\n",
    "    c = ClassicalRegister(2, name='c') \n",
    "\n",
    "    # creates quantum circuit, to write a quantum algorithm we will add gates to the circuit\n",
    "    game = QuantumCircuit(q, c, name='game')\n",
    "    \n",
    "    # These gates prepare the entangled Bell pair to be shared by Alice and Bob as part of their quantum strategy\n",
    "    # Alice will have qubit 0 and Bob will have qubit 1\n",
    "    game.h(q[0]) # Hadamard gate on qubit 0\n",
    "    game.cx(q[0],q[1]) # CNOT gate on qubit 1 controlled by qubit 0\n",
    "\n",
    "    # generates two random input from the refree, x and y, to be given to Alice and Bob\n",
    "    random_num1 = rand.random() # first random number\n",
    "    random_num2 = rand.random() # second random number\n",
    "\n",
    "    if(random_num1 >= 1/2): # converts the first random number to 0 or 1\n",
    "        x = 0\n",
    "    else: x = 1\n",
    "\n",
    "    if(random_num2 >= 1/2): # converts the second random number to 0 or 1\n",
    "        y = 0\n",
    "    else: y = 1\n",
    "\n",
    "    # The main part of Alice and Bob quantum strategy is to fix different rotation angles for their qubit according to the input x,y\n",
    "    theta = qAlice_output(3, x) # fixes Alice's rotation for her qubit\n",
    "    phi = qBob_output(3, y) # fixes Bob's rotation for his qubit\n",
    "    \n",
    "    # The following gates rotate Alice's qubit and Bob's qubit\n",
    "    game.ry(theta,q[0]) #rotates Alice's qubit of an angle theta\n",
    "    game.ry(phi,q[1]) ##rotates Bob's qubit of an angle phi\n",
    "\n",
    "    # These gates are used to measure  the value of the qubits\n",
    "    game.measure(q[0], c[0]) # measure Alice's qubit and stores the result in a classical bit\n",
    "    game.measure(q[1], c[1]) # measure Bob's qubit and stores the result in a classical bit\n",
    "\n",
    "    # executes circuit and store the output of the measurements\n",
    "    result = execute(game, backend=backend, shots=shots).result()\n",
    "\n",
    "    data = result.get_counts('game') # extract the outcomes and their statistics from the result of the execution\n",
    "    \n",
    "\n",
    "    # reads the result of the measurements of the quantum system\n",
    "    for outcomes in data.keys():\n",
    "        out = outcomes\n",
    "\n",
    "\n",
    "    # converts the result of the measurements contained in the classical register as string '00', '01', '10', '11',\n",
    "    # which are the answers of Alice(a) and Bob (b), from a 'string' type  to 'integer' type \n",
    "    if(out == '00'):\n",
    "        a = 0\n",
    "        b = 0\n",
    "    if(out == '01'):\n",
    "        a = 1\n",
    "        b = 0    \n",
    "    if(out == '10'):\n",
    "        a = 0\n",
    "        b = 1\n",
    "    if(out == '11'):\n",
    "        a = 1\n",
    "        b = 1\n",
    "\n",
    "\n",
    "    # check if the condition for winning the game is met\n",
    "    if(x*y == a^b):\n",
    "        cont_win += 1 # increase thes won games' counter if the condition to win the game is met\n",
    "    \n",
    "    cont_tot += 1 # increases the played games' counter\n",
    "\n",
    "qProb_win = cont_win/cont_tot\n",
    "\n",
    "print('Alice and Bob won the game with probability: ', qProb_win*100, '%')"
   ]
  },
  {
   "cell_type": "code",
   "execution_count": 39,
   "metadata": {},
   "outputs": [
    {
     "data": {
      "text/html": [
       "<pre style=\"word-wrap: normal;white-space: pre;background: #fff0;line-height: 1.1;font-family: &quot;Courier New&quot;,Courier,monospace\">     ┌───┐     ┌─────────┐┌─┐   \n",
       "q_0: ┤ H ├──■──┤ Ry(π/2) ├┤M├───\n",
       "     └───┘┌─┴─┐├─────────┤└╥┘┌─┐\n",
       "q_1: ─────┤ X ├┤ Ry(π/4) ├─╫─┤M├\n",
       "          └───┘└─────────┘ ║ └╥┘\n",
       "c: 2/══════════════════════╩══╩═\n",
       "                           0  1 </pre>"
      ],
      "text/plain": [
       "     ┌───┐     ┌─────────┐┌─┐   \n",
       "q_0: ┤ H ├──■──┤ Ry(π/2) ├┤M├───\n",
       "     └───┘┌─┴─┐├─────────┤└╥┘┌─┐\n",
       "q_1: ─────┤ X ├┤ Ry(π/4) ├─╫─┤M├\n",
       "          └───┘└─────────┘ ║ └╥┘\n",
       "c: 2/══════════════════════╩══╩═\n",
       "                           0  1 "
      ]
     },
     "execution_count": 39,
     "metadata": {},
     "output_type": "execute_result"
    }
   ],
   "source": [
    "game.draw()"
   ]
  },
  {
   "cell_type": "code",
   "execution_count": 30,
   "metadata": {},
   "outputs": [
    {
     "data": {
      "text/plain": [
       "{'00': 1}"
      ]
     },
     "execution_count": 30,
     "metadata": {},
     "output_type": "execute_result"
    }
   ],
   "source": [
    "data"
   ]
  },
  {
   "cell_type": "code",
   "execution_count": null,
   "metadata": {},
   "outputs": [],
   "source": []
  }
 ],
 "metadata": {
  "kernelspec": {
   "display_name": "Python 3 (ipykernel)",
   "language": "python",
   "name": "python3"
  },
  "language_info": {
   "codemirror_mode": {
    "name": "ipython",
    "version": 3
   },
   "file_extension": ".py",
   "mimetype": "text/x-python",
   "name": "python",
   "nbconvert_exporter": "python",
   "pygments_lexer": "ipython3",
   "version": "3.9.13"
  }
 },
 "nbformat": 4,
 "nbformat_minor": 2
}
